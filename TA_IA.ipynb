{
  "nbformat": 4,
  "nbformat_minor": 0,
  "metadata": {
    "colab": {
      "provenance": []
    },
    "kernelspec": {
      "name": "python3",
      "display_name": "Python 3"
    },
    "language_info": {
      "name": "python"
    }
  },
  "cells": [
    {
      "cell_type": "markdown",
      "source": [
        "# Importacion de librerias"
      ],
      "metadata": {
        "id": "8-AnxiUG-Rha"
      }
    },
    {
      "cell_type": "code",
      "source": [
        "import pandas as pd\n",
        "import numpy as np\n",
        "import matplotlib.pyplot as plt\n",
        "import seaborn as sns\n",
        "from sklearn import preprocessing\n",
        "from sklearn.model_selection import train_test_split\n",
        "from sklearn.model_selection import GridSearchCV\n",
        "from sklearn.linear_model import LogisticRegression\n",
        "from sklearn.svm import SVC\n",
        "from sklearn.tree import DecisionTreeClassifier\n",
        "from sklearn.neighbors import KNeighborsClassifier"
      ],
      "metadata": {
        "id": "255kRq38-TaM"
      },
      "execution_count": null,
      "outputs": []
    },
    {
      "cell_type": "code",
      "source": [
        "def plot_confusion_matrix(y,y_predict):\n",
        "    \"this function plots the confusion matrix\"\n",
        "    from sklearn.metrics import confusion_matrix\n",
        "\n",
        "    cm = confusion_matrix(y, y_predict)\n",
        "    ax= plt.subplot()\n",
        "    sns.heatmap(cm, annot=True, ax = ax); #annot=True to annotate cells\n",
        "    ax.set_xlabel('Predicted labels')\n",
        "    ax.set_ylabel('True labels')\n",
        "    ax.set_title('Confusion Matrix');\n",
        "    ax.xaxis.set_ticklabels(['did not land', 'land']); ax.yaxis.set_ticklabels(['did not land', 'landed'])\n",
        "    plt.show()"
      ],
      "metadata": {
        "id": "m4hZJqWx7i-f"
      },
      "execution_count": null,
      "outputs": []
    },
    {
      "cell_type": "markdown",
      "source": [
        "###Datasets"
      ],
      "metadata": {
        "id": "8jbj_SY6Br8X"
      }
    },
    {
      "cell_type": "code",
      "source": [
        "import pandas as pd\n",
        "import requests\n",
        "import io\n",
        "# First URL\n",
        "URL1 = \"/content/dataset_part_2.csv\"\n",
        "data = pd.read_csv(URL1)"
      ],
      "metadata": {
        "id": "9gCozkTH7rE6"
      },
      "execution_count": null,
      "outputs": []
    },
    {
      "cell_type": "code",
      "source": [
        "data.info()"
      ],
      "metadata": {
        "colab": {
          "base_uri": "https://localhost:8080/"
        },
        "id": "SpJO5X47_u4W",
        "outputId": "0555ff40-83f8-4ca8-ec02-05f8bf1c3231"
      },
      "execution_count": null,
      "outputs": [
        {
          "output_type": "stream",
          "name": "stdout",
          "text": [
            "<class 'pandas.core.frame.DataFrame'>\n",
            "RangeIndex: 90 entries, 0 to 89\n",
            "Data columns (total 18 columns):\n",
            " #   Column          Non-Null Count  Dtype  \n",
            "---  ------          --------------  -----  \n",
            " 0   FlightNumber    90 non-null     int64  \n",
            " 1   Date            90 non-null     object \n",
            " 2   BoosterVersion  90 non-null     object \n",
            " 3   PayloadMass     90 non-null     float64\n",
            " 4   Orbit           90 non-null     object \n",
            " 5   LaunchSite      90 non-null     object \n",
            " 6   Outcome         90 non-null     object \n",
            " 7   Flights         90 non-null     int64  \n",
            " 8   GridFins        90 non-null     bool   \n",
            " 9   Reused          90 non-null     bool   \n",
            " 10  Legs            90 non-null     bool   \n",
            " 11  LandingPad      64 non-null     object \n",
            " 12  Block           90 non-null     float64\n",
            " 13  ReusedCount     90 non-null     int64  \n",
            " 14  Serial          90 non-null     object \n",
            " 15  Longitude       90 non-null     float64\n",
            " 16  Latitude        90 non-null     float64\n",
            " 17  Class           90 non-null     int64  \n",
            "dtypes: bool(3), float64(4), int64(4), object(7)\n",
            "memory usage: 10.9+ KB\n"
          ]
        }
      ]
    },
    {
      "cell_type": "code",
      "source": [
        "data.head()"
      ],
      "metadata": {
        "colab": {
          "base_uri": "https://localhost:8080/",
          "height": 313
        },
        "id": "2gDth79Z_wLH",
        "outputId": "9d95a6fa-25f8-4d88-8b27-cb3ca7553d0a"
      },
      "execution_count": null,
      "outputs": [
        {
          "output_type": "execute_result",
          "data": {
            "text/plain": [
              "   FlightNumber        Date BoosterVersion  PayloadMass Orbit    LaunchSite  \\\n",
              "0             1  2010-06-04       Falcon 9  6104.959412   LEO  CCAFS SLC 40   \n",
              "1             2  2012-05-22       Falcon 9   525.000000   LEO  CCAFS SLC 40   \n",
              "2             3  2013-03-01       Falcon 9   677.000000   ISS  CCAFS SLC 40   \n",
              "3             4  2013-09-29       Falcon 9   500.000000    PO   VAFB SLC 4E   \n",
              "4             5  2013-12-03       Falcon 9  3170.000000   GTO  CCAFS SLC 40   \n",
              "\n",
              "       Outcome  Flights  GridFins  Reused   Legs LandingPad  Block  \\\n",
              "0    None None        1     False   False  False        NaN    1.0   \n",
              "1    None None        1     False   False  False        NaN    1.0   \n",
              "2    None None        1     False   False  False        NaN    1.0   \n",
              "3  False Ocean        1     False   False  False        NaN    1.0   \n",
              "4    None None        1     False   False  False        NaN    1.0   \n",
              "\n",
              "   ReusedCount Serial   Longitude   Latitude  Class  \n",
              "0            0  B0003  -80.577366  28.561857      0  \n",
              "1            0  B0005  -80.577366  28.561857      0  \n",
              "2            0  B0007  -80.577366  28.561857      0  \n",
              "3            0  B1003 -120.610829  34.632093      0  \n",
              "4            0  B1004  -80.577366  28.561857      0  "
            ],
            "text/html": [
              "\n",
              "  <div id=\"df-03fa13c8-3f1b-4744-a5da-5e7eb9469d7d\" class=\"colab-df-container\">\n",
              "    <div>\n",
              "<style scoped>\n",
              "    .dataframe tbody tr th:only-of-type {\n",
              "        vertical-align: middle;\n",
              "    }\n",
              "\n",
              "    .dataframe tbody tr th {\n",
              "        vertical-align: top;\n",
              "    }\n",
              "\n",
              "    .dataframe thead th {\n",
              "        text-align: right;\n",
              "    }\n",
              "</style>\n",
              "<table border=\"1\" class=\"dataframe\">\n",
              "  <thead>\n",
              "    <tr style=\"text-align: right;\">\n",
              "      <th></th>\n",
              "      <th>FlightNumber</th>\n",
              "      <th>Date</th>\n",
              "      <th>BoosterVersion</th>\n",
              "      <th>PayloadMass</th>\n",
              "      <th>Orbit</th>\n",
              "      <th>LaunchSite</th>\n",
              "      <th>Outcome</th>\n",
              "      <th>Flights</th>\n",
              "      <th>GridFins</th>\n",
              "      <th>Reused</th>\n",
              "      <th>Legs</th>\n",
              "      <th>LandingPad</th>\n",
              "      <th>Block</th>\n",
              "      <th>ReusedCount</th>\n",
              "      <th>Serial</th>\n",
              "      <th>Longitude</th>\n",
              "      <th>Latitude</th>\n",
              "      <th>Class</th>\n",
              "    </tr>\n",
              "  </thead>\n",
              "  <tbody>\n",
              "    <tr>\n",
              "      <th>0</th>\n",
              "      <td>1</td>\n",
              "      <td>2010-06-04</td>\n",
              "      <td>Falcon 9</td>\n",
              "      <td>6104.959412</td>\n",
              "      <td>LEO</td>\n",
              "      <td>CCAFS SLC 40</td>\n",
              "      <td>None None</td>\n",
              "      <td>1</td>\n",
              "      <td>False</td>\n",
              "      <td>False</td>\n",
              "      <td>False</td>\n",
              "      <td>NaN</td>\n",
              "      <td>1.0</td>\n",
              "      <td>0</td>\n",
              "      <td>B0003</td>\n",
              "      <td>-80.577366</td>\n",
              "      <td>28.561857</td>\n",
              "      <td>0</td>\n",
              "    </tr>\n",
              "    <tr>\n",
              "      <th>1</th>\n",
              "      <td>2</td>\n",
              "      <td>2012-05-22</td>\n",
              "      <td>Falcon 9</td>\n",
              "      <td>525.000000</td>\n",
              "      <td>LEO</td>\n",
              "      <td>CCAFS SLC 40</td>\n",
              "      <td>None None</td>\n",
              "      <td>1</td>\n",
              "      <td>False</td>\n",
              "      <td>False</td>\n",
              "      <td>False</td>\n",
              "      <td>NaN</td>\n",
              "      <td>1.0</td>\n",
              "      <td>0</td>\n",
              "      <td>B0005</td>\n",
              "      <td>-80.577366</td>\n",
              "      <td>28.561857</td>\n",
              "      <td>0</td>\n",
              "    </tr>\n",
              "    <tr>\n",
              "      <th>2</th>\n",
              "      <td>3</td>\n",
              "      <td>2013-03-01</td>\n",
              "      <td>Falcon 9</td>\n",
              "      <td>677.000000</td>\n",
              "      <td>ISS</td>\n",
              "      <td>CCAFS SLC 40</td>\n",
              "      <td>None None</td>\n",
              "      <td>1</td>\n",
              "      <td>False</td>\n",
              "      <td>False</td>\n",
              "      <td>False</td>\n",
              "      <td>NaN</td>\n",
              "      <td>1.0</td>\n",
              "      <td>0</td>\n",
              "      <td>B0007</td>\n",
              "      <td>-80.577366</td>\n",
              "      <td>28.561857</td>\n",
              "      <td>0</td>\n",
              "    </tr>\n",
              "    <tr>\n",
              "      <th>3</th>\n",
              "      <td>4</td>\n",
              "      <td>2013-09-29</td>\n",
              "      <td>Falcon 9</td>\n",
              "      <td>500.000000</td>\n",
              "      <td>PO</td>\n",
              "      <td>VAFB SLC 4E</td>\n",
              "      <td>False Ocean</td>\n",
              "      <td>1</td>\n",
              "      <td>False</td>\n",
              "      <td>False</td>\n",
              "      <td>False</td>\n",
              "      <td>NaN</td>\n",
              "      <td>1.0</td>\n",
              "      <td>0</td>\n",
              "      <td>B1003</td>\n",
              "      <td>-120.610829</td>\n",
              "      <td>34.632093</td>\n",
              "      <td>0</td>\n",
              "    </tr>\n",
              "    <tr>\n",
              "      <th>4</th>\n",
              "      <td>5</td>\n",
              "      <td>2013-12-03</td>\n",
              "      <td>Falcon 9</td>\n",
              "      <td>3170.000000</td>\n",
              "      <td>GTO</td>\n",
              "      <td>CCAFS SLC 40</td>\n",
              "      <td>None None</td>\n",
              "      <td>1</td>\n",
              "      <td>False</td>\n",
              "      <td>False</td>\n",
              "      <td>False</td>\n",
              "      <td>NaN</td>\n",
              "      <td>1.0</td>\n",
              "      <td>0</td>\n",
              "      <td>B1004</td>\n",
              "      <td>-80.577366</td>\n",
              "      <td>28.561857</td>\n",
              "      <td>0</td>\n",
              "    </tr>\n",
              "  </tbody>\n",
              "</table>\n",
              "</div>\n",
              "    <div class=\"colab-df-buttons\">\n",
              "\n",
              "  <div class=\"colab-df-container\">\n",
              "    <button class=\"colab-df-convert\" onclick=\"convertToInteractive('df-03fa13c8-3f1b-4744-a5da-5e7eb9469d7d')\"\n",
              "            title=\"Convert this dataframe to an interactive table.\"\n",
              "            style=\"display:none;\">\n",
              "\n",
              "  <svg xmlns=\"http://www.w3.org/2000/svg\" height=\"24px\" viewBox=\"0 -960 960 960\">\n",
              "    <path d=\"M120-120v-720h720v720H120Zm60-500h600v-160H180v160Zm220 220h160v-160H400v160Zm0 220h160v-160H400v160ZM180-400h160v-160H180v160Zm440 0h160v-160H620v160ZM180-180h160v-160H180v160Zm440 0h160v-160H620v160Z\"/>\n",
              "  </svg>\n",
              "    </button>\n",
              "\n",
              "  <style>\n",
              "    .colab-df-container {\n",
              "      display:flex;\n",
              "      gap: 12px;\n",
              "    }\n",
              "\n",
              "    .colab-df-convert {\n",
              "      background-color: #E8F0FE;\n",
              "      border: none;\n",
              "      border-radius: 50%;\n",
              "      cursor: pointer;\n",
              "      display: none;\n",
              "      fill: #1967D2;\n",
              "      height: 32px;\n",
              "      padding: 0 0 0 0;\n",
              "      width: 32px;\n",
              "    }\n",
              "\n",
              "    .colab-df-convert:hover {\n",
              "      background-color: #E2EBFA;\n",
              "      box-shadow: 0px 1px 2px rgba(60, 64, 67, 0.3), 0px 1px 3px 1px rgba(60, 64, 67, 0.15);\n",
              "      fill: #174EA6;\n",
              "    }\n",
              "\n",
              "    .colab-df-buttons div {\n",
              "      margin-bottom: 4px;\n",
              "    }\n",
              "\n",
              "    [theme=dark] .colab-df-convert {\n",
              "      background-color: #3B4455;\n",
              "      fill: #D2E3FC;\n",
              "    }\n",
              "\n",
              "    [theme=dark] .colab-df-convert:hover {\n",
              "      background-color: #434B5C;\n",
              "      box-shadow: 0px 1px 3px 1px rgba(0, 0, 0, 0.15);\n",
              "      filter: drop-shadow(0px 1px 2px rgba(0, 0, 0, 0.3));\n",
              "      fill: #FFFFFF;\n",
              "    }\n",
              "  </style>\n",
              "\n",
              "    <script>\n",
              "      const buttonEl =\n",
              "        document.querySelector('#df-03fa13c8-3f1b-4744-a5da-5e7eb9469d7d button.colab-df-convert');\n",
              "      buttonEl.style.display =\n",
              "        google.colab.kernel.accessAllowed ? 'block' : 'none';\n",
              "\n",
              "      async function convertToInteractive(key) {\n",
              "        const element = document.querySelector('#df-03fa13c8-3f1b-4744-a5da-5e7eb9469d7d');\n",
              "        const dataTable =\n",
              "          await google.colab.kernel.invokeFunction('convertToInteractive',\n",
              "                                                    [key], {});\n",
              "        if (!dataTable) return;\n",
              "\n",
              "        const docLinkHtml = 'Like what you see? Visit the ' +\n",
              "          '<a target=\"_blank\" href=https://colab.research.google.com/notebooks/data_table.ipynb>data table notebook</a>'\n",
              "          + ' to learn more about interactive tables.';\n",
              "        element.innerHTML = '';\n",
              "        dataTable['output_type'] = 'display_data';\n",
              "        await google.colab.output.renderOutput(dataTable, element);\n",
              "        const docLink = document.createElement('div');\n",
              "        docLink.innerHTML = docLinkHtml;\n",
              "        element.appendChild(docLink);\n",
              "      }\n",
              "    </script>\n",
              "  </div>\n",
              "\n",
              "\n",
              "<div id=\"df-529fa455-870e-40e5-858a-c121322aa7b1\">\n",
              "  <button class=\"colab-df-quickchart\" onclick=\"quickchart('df-529fa455-870e-40e5-858a-c121322aa7b1')\"\n",
              "            title=\"Suggest charts\"\n",
              "            style=\"display:none;\">\n",
              "\n",
              "<svg xmlns=\"http://www.w3.org/2000/svg\" height=\"24px\"viewBox=\"0 0 24 24\"\n",
              "     width=\"24px\">\n",
              "    <g>\n",
              "        <path d=\"M19 3H5c-1.1 0-2 .9-2 2v14c0 1.1.9 2 2 2h14c1.1 0 2-.9 2-2V5c0-1.1-.9-2-2-2zM9 17H7v-7h2v7zm4 0h-2V7h2v10zm4 0h-2v-4h2v4z\"/>\n",
              "    </g>\n",
              "</svg>\n",
              "  </button>\n",
              "\n",
              "<style>\n",
              "  .colab-df-quickchart {\n",
              "      --bg-color: #E8F0FE;\n",
              "      --fill-color: #1967D2;\n",
              "      --hover-bg-color: #E2EBFA;\n",
              "      --hover-fill-color: #174EA6;\n",
              "      --disabled-fill-color: #AAA;\n",
              "      --disabled-bg-color: #DDD;\n",
              "  }\n",
              "\n",
              "  [theme=dark] .colab-df-quickchart {\n",
              "      --bg-color: #3B4455;\n",
              "      --fill-color: #D2E3FC;\n",
              "      --hover-bg-color: #434B5C;\n",
              "      --hover-fill-color: #FFFFFF;\n",
              "      --disabled-bg-color: #3B4455;\n",
              "      --disabled-fill-color: #666;\n",
              "  }\n",
              "\n",
              "  .colab-df-quickchart {\n",
              "    background-color: var(--bg-color);\n",
              "    border: none;\n",
              "    border-radius: 50%;\n",
              "    cursor: pointer;\n",
              "    display: none;\n",
              "    fill: var(--fill-color);\n",
              "    height: 32px;\n",
              "    padding: 0;\n",
              "    width: 32px;\n",
              "  }\n",
              "\n",
              "  .colab-df-quickchart:hover {\n",
              "    background-color: var(--hover-bg-color);\n",
              "    box-shadow: 0 1px 2px rgba(60, 64, 67, 0.3), 0 1px 3px 1px rgba(60, 64, 67, 0.15);\n",
              "    fill: var(--button-hover-fill-color);\n",
              "  }\n",
              "\n",
              "  .colab-df-quickchart-complete:disabled,\n",
              "  .colab-df-quickchart-complete:disabled:hover {\n",
              "    background-color: var(--disabled-bg-color);\n",
              "    fill: var(--disabled-fill-color);\n",
              "    box-shadow: none;\n",
              "  }\n",
              "\n",
              "  .colab-df-spinner {\n",
              "    border: 2px solid var(--fill-color);\n",
              "    border-color: transparent;\n",
              "    border-bottom-color: var(--fill-color);\n",
              "    animation:\n",
              "      spin 1s steps(1) infinite;\n",
              "  }\n",
              "\n",
              "  @keyframes spin {\n",
              "    0% {\n",
              "      border-color: transparent;\n",
              "      border-bottom-color: var(--fill-color);\n",
              "      border-left-color: var(--fill-color);\n",
              "    }\n",
              "    20% {\n",
              "      border-color: transparent;\n",
              "      border-left-color: var(--fill-color);\n",
              "      border-top-color: var(--fill-color);\n",
              "    }\n",
              "    30% {\n",
              "      border-color: transparent;\n",
              "      border-left-color: var(--fill-color);\n",
              "      border-top-color: var(--fill-color);\n",
              "      border-right-color: var(--fill-color);\n",
              "    }\n",
              "    40% {\n",
              "      border-color: transparent;\n",
              "      border-right-color: var(--fill-color);\n",
              "      border-top-color: var(--fill-color);\n",
              "    }\n",
              "    60% {\n",
              "      border-color: transparent;\n",
              "      border-right-color: var(--fill-color);\n",
              "    }\n",
              "    80% {\n",
              "      border-color: transparent;\n",
              "      border-right-color: var(--fill-color);\n",
              "      border-bottom-color: var(--fill-color);\n",
              "    }\n",
              "    90% {\n",
              "      border-color: transparent;\n",
              "      border-bottom-color: var(--fill-color);\n",
              "    }\n",
              "  }\n",
              "</style>\n",
              "\n",
              "  <script>\n",
              "    async function quickchart(key) {\n",
              "      const quickchartButtonEl =\n",
              "        document.querySelector('#' + key + ' button');\n",
              "      quickchartButtonEl.disabled = true;  // To prevent multiple clicks.\n",
              "      quickchartButtonEl.classList.add('colab-df-spinner');\n",
              "      try {\n",
              "        const charts = await google.colab.kernel.invokeFunction(\n",
              "            'suggestCharts', [key], {});\n",
              "      } catch (error) {\n",
              "        console.error('Error during call to suggestCharts:', error);\n",
              "      }\n",
              "      quickchartButtonEl.classList.remove('colab-df-spinner');\n",
              "      quickchartButtonEl.classList.add('colab-df-quickchart-complete');\n",
              "    }\n",
              "    (() => {\n",
              "      let quickchartButtonEl =\n",
              "        document.querySelector('#df-529fa455-870e-40e5-858a-c121322aa7b1 button');\n",
              "      quickchartButtonEl.style.display =\n",
              "        google.colab.kernel.accessAllowed ? 'block' : 'none';\n",
              "    })();\n",
              "  </script>\n",
              "</div>\n",
              "\n",
              "    </div>\n",
              "  </div>\n"
            ],
            "application/vnd.google.colaboratory.intrinsic+json": {
              "type": "dataframe",
              "variable_name": "data",
              "summary": "{\n  \"name\": \"data\",\n  \"rows\": 90,\n  \"fields\": [\n    {\n      \"column\": \"FlightNumber\",\n      \"properties\": {\n        \"dtype\": \"number\",\n        \"std\": 26,\n        \"min\": 1,\n        \"max\": 90,\n        \"num_unique_values\": 90,\n        \"samples\": [\n          41,\n          23,\n          56\n        ],\n        \"semantic_type\": \"\",\n        \"description\": \"\"\n      }\n    },\n    {\n      \"column\": \"Date\",\n      \"properties\": {\n        \"dtype\": \"object\",\n        \"num_unique_values\": 90,\n        \"samples\": [\n          \"2017-10-30\",\n          \"2016-07-18\",\n          \"2018-09-10\"\n        ],\n        \"semantic_type\": \"\",\n        \"description\": \"\"\n      }\n    },\n    {\n      \"column\": \"BoosterVersion\",\n      \"properties\": {\n        \"dtype\": \"category\",\n        \"num_unique_values\": 1,\n        \"samples\": [\n          \"Falcon 9\"\n        ],\n        \"semantic_type\": \"\",\n        \"description\": \"\"\n      }\n    },\n    {\n      \"column\": \"PayloadMass\",\n      \"properties\": {\n        \"dtype\": \"number\",\n        \"std\": 4694.671719712728,\n        \"min\": 350.0,\n        \"max\": 15600.0,\n        \"num_unique_values\": 69,\n        \"samples\": [\n          2257.0\n        ],\n        \"semantic_type\": \"\",\n        \"description\": \"\"\n      }\n    },\n    {\n      \"column\": \"Orbit\",\n      \"properties\": {\n        \"dtype\": \"category\",\n        \"num_unique_values\": 11,\n        \"samples\": [\n          \"SSO\"\n        ],\n        \"semantic_type\": \"\",\n        \"description\": \"\"\n      }\n    },\n    {\n      \"column\": \"LaunchSite\",\n      \"properties\": {\n        \"dtype\": \"category\",\n        \"num_unique_values\": 3,\n        \"samples\": [\n          \"CCAFS SLC 40\"\n        ],\n        \"semantic_type\": \"\",\n        \"description\": \"\"\n      }\n    },\n    {\n      \"column\": \"Outcome\",\n      \"properties\": {\n        \"dtype\": \"category\",\n        \"num_unique_values\": 8,\n        \"samples\": [\n          \"False Ocean\"\n        ],\n        \"semantic_type\": \"\",\n        \"description\": \"\"\n      }\n    },\n    {\n      \"column\": \"Flights\",\n      \"properties\": {\n        \"dtype\": \"number\",\n        \"std\": 1,\n        \"min\": 1,\n        \"max\": 6,\n        \"num_unique_values\": 6,\n        \"samples\": [\n          1\n        ],\n        \"semantic_type\": \"\",\n        \"description\": \"\"\n      }\n    },\n    {\n      \"column\": \"GridFins\",\n      \"properties\": {\n        \"dtype\": \"boolean\",\n        \"num_unique_values\": 2,\n        \"samples\": [\n          true\n        ],\n        \"semantic_type\": \"\",\n        \"description\": \"\"\n      }\n    },\n    {\n      \"column\": \"Reused\",\n      \"properties\": {\n        \"dtype\": \"boolean\",\n        \"num_unique_values\": 2,\n        \"samples\": [\n          true\n        ],\n        \"semantic_type\": \"\",\n        \"description\": \"\"\n      }\n    },\n    {\n      \"column\": \"Legs\",\n      \"properties\": {\n        \"dtype\": \"boolean\",\n        \"num_unique_values\": 2,\n        \"samples\": [\n          true\n        ],\n        \"semantic_type\": \"\",\n        \"description\": \"\"\n      }\n    },\n    {\n      \"column\": \"LandingPad\",\n      \"properties\": {\n        \"dtype\": \"category\",\n        \"num_unique_values\": 5,\n        \"samples\": [\n          \"5e9e3032383ecb6bb234e7ca\"\n        ],\n        \"semantic_type\": \"\",\n        \"description\": \"\"\n      }\n    },\n    {\n      \"column\": \"Block\",\n      \"properties\": {\n        \"dtype\": \"number\",\n        \"std\": 1.5952880054161753,\n        \"min\": 1.0,\n        \"max\": 5.0,\n        \"num_unique_values\": 5,\n        \"samples\": [\n          2.0\n        ],\n        \"semantic_type\": \"\",\n        \"description\": \"\"\n      }\n    },\n    {\n      \"column\": \"ReusedCount\",\n      \"properties\": {\n        \"dtype\": \"number\",\n        \"std\": 1,\n        \"min\": 0,\n        \"max\": 5,\n        \"num_unique_values\": 6,\n        \"samples\": [\n          0\n        ],\n        \"semantic_type\": \"\",\n        \"description\": \"\"\n      }\n    },\n    {\n      \"column\": \"Serial\",\n      \"properties\": {\n        \"dtype\": \"string\",\n        \"num_unique_values\": 53,\n        \"samples\": [\n          \"B1021\"\n        ],\n        \"semantic_type\": \"\",\n        \"description\": \"\"\n      }\n    },\n    {\n      \"column\": \"Longitude\",\n      \"properties\": {\n        \"dtype\": \"number\",\n        \"std\": 14.14951820469966,\n        \"min\": -120.610829,\n        \"max\": -80.577366,\n        \"num_unique_values\": 3,\n        \"samples\": [\n          -80.577366\n        ],\n        \"semantic_type\": \"\",\n        \"description\": \"\"\n      }\n    },\n    {\n      \"column\": \"Latitude\",\n      \"properties\": {\n        \"dtype\": \"number\",\n        \"std\": 2.1413060763566953,\n        \"min\": 28.5618571,\n        \"max\": 34.632093,\n        \"num_unique_values\": 3,\n        \"samples\": [\n          28.5618571\n        ],\n        \"semantic_type\": \"\",\n        \"description\": \"\"\n      }\n    },\n    {\n      \"column\": \"Class\",\n      \"properties\": {\n        \"dtype\": \"number\",\n        \"std\": 0,\n        \"min\": 0,\n        \"max\": 1,\n        \"num_unique_values\": 2,\n        \"samples\": [\n          1\n        ],\n        \"semantic_type\": \"\",\n        \"description\": \"\"\n      }\n    }\n  ]\n}"
            }
          },
          "metadata": {},
          "execution_count": 5
        }
      ]
    },
    {
      "cell_type": "code",
      "source": [
        "# Second URL\n",
        "URL2 = '/content/dataset_part_3.csv'\n",
        "X = pd.read_csv(URL2)"
      ],
      "metadata": {
        "id": "2nos9A3u79Xe"
      },
      "execution_count": null,
      "outputs": []
    },
    {
      "cell_type": "code",
      "source": [
        "X.info()"
      ],
      "metadata": {
        "colab": {
          "base_uri": "https://localhost:8080/"
        },
        "id": "nrDW3nr3_rHA",
        "outputId": "9451bc6c-0071-4274-9d53-e0306f9cb4aa"
      },
      "execution_count": null,
      "outputs": [
        {
          "output_type": "stream",
          "name": "stdout",
          "text": [
            "<class 'pandas.core.frame.DataFrame'>\n",
            "RangeIndex: 90 entries, 0 to 89\n",
            "Data columns (total 83 columns):\n",
            " #   Column                               Non-Null Count  Dtype  \n",
            "---  ------                               --------------  -----  \n",
            " 0   FlightNumber                         90 non-null     float64\n",
            " 1   PayloadMass                          90 non-null     float64\n",
            " 2   Flights                              90 non-null     float64\n",
            " 3   Block                                90 non-null     float64\n",
            " 4   ReusedCount                          90 non-null     float64\n",
            " 5   Orbit_ES-L1                          90 non-null     float64\n",
            " 6   Orbit_GEO                            90 non-null     float64\n",
            " 7   Orbit_GTO                            90 non-null     float64\n",
            " 8   Orbit_HEO                            90 non-null     float64\n",
            " 9   Orbit_ISS                            90 non-null     float64\n",
            " 10  Orbit_LEO                            90 non-null     float64\n",
            " 11  Orbit_MEO                            90 non-null     float64\n",
            " 12  Orbit_PO                             90 non-null     float64\n",
            " 13  Orbit_SO                             90 non-null     float64\n",
            " 14  Orbit_SSO                            90 non-null     float64\n",
            " 15  Orbit_VLEO                           90 non-null     float64\n",
            " 16  LaunchSite_CCAFS SLC 40              90 non-null     float64\n",
            " 17  LaunchSite_KSC LC 39A                90 non-null     float64\n",
            " 18  LaunchSite_VAFB SLC 4E               90 non-null     float64\n",
            " 19  LandingPad_5e9e3032383ecb267a34e7c7  90 non-null     float64\n",
            " 20  LandingPad_5e9e3032383ecb554034e7c9  90 non-null     float64\n",
            " 21  LandingPad_5e9e3032383ecb6bb234e7ca  90 non-null     float64\n",
            " 22  LandingPad_5e9e3032383ecb761634e7cb  90 non-null     float64\n",
            " 23  LandingPad_5e9e3033383ecbb9e534e7cc  90 non-null     float64\n",
            " 24  Serial_B0003                         90 non-null     float64\n",
            " 25  Serial_B0005                         90 non-null     float64\n",
            " 26  Serial_B0007                         90 non-null     float64\n",
            " 27  Serial_B1003                         90 non-null     float64\n",
            " 28  Serial_B1004                         90 non-null     float64\n",
            " 29  Serial_B1005                         90 non-null     float64\n",
            " 30  Serial_B1006                         90 non-null     float64\n",
            " 31  Serial_B1007                         90 non-null     float64\n",
            " 32  Serial_B1008                         90 non-null     float64\n",
            " 33  Serial_B1010                         90 non-null     float64\n",
            " 34  Serial_B1011                         90 non-null     float64\n",
            " 35  Serial_B1012                         90 non-null     float64\n",
            " 36  Serial_B1013                         90 non-null     float64\n",
            " 37  Serial_B1015                         90 non-null     float64\n",
            " 38  Serial_B1016                         90 non-null     float64\n",
            " 39  Serial_B1017                         90 non-null     float64\n",
            " 40  Serial_B1018                         90 non-null     float64\n",
            " 41  Serial_B1019                         90 non-null     float64\n",
            " 42  Serial_B1020                         90 non-null     float64\n",
            " 43  Serial_B1021                         90 non-null     float64\n",
            " 44  Serial_B1022                         90 non-null     float64\n",
            " 45  Serial_B1023                         90 non-null     float64\n",
            " 46  Serial_B1025                         90 non-null     float64\n",
            " 47  Serial_B1026                         90 non-null     float64\n",
            " 48  Serial_B1028                         90 non-null     float64\n",
            " 49  Serial_B1029                         90 non-null     float64\n",
            " 50  Serial_B1030                         90 non-null     float64\n",
            " 51  Serial_B1031                         90 non-null     float64\n",
            " 52  Serial_B1032                         90 non-null     float64\n",
            " 53  Serial_B1034                         90 non-null     float64\n",
            " 54  Serial_B1035                         90 non-null     float64\n",
            " 55  Serial_B1036                         90 non-null     float64\n",
            " 56  Serial_B1037                         90 non-null     float64\n",
            " 57  Serial_B1038                         90 non-null     float64\n",
            " 58  Serial_B1039                         90 non-null     float64\n",
            " 59  Serial_B1040                         90 non-null     float64\n",
            " 60  Serial_B1041                         90 non-null     float64\n",
            " 61  Serial_B1042                         90 non-null     float64\n",
            " 62  Serial_B1043                         90 non-null     float64\n",
            " 63  Serial_B1044                         90 non-null     float64\n",
            " 64  Serial_B1045                         90 non-null     float64\n",
            " 65  Serial_B1046                         90 non-null     float64\n",
            " 66  Serial_B1047                         90 non-null     float64\n",
            " 67  Serial_B1048                         90 non-null     float64\n",
            " 68  Serial_B1049                         90 non-null     float64\n",
            " 69  Serial_B1050                         90 non-null     float64\n",
            " 70  Serial_B1051                         90 non-null     float64\n",
            " 71  Serial_B1054                         90 non-null     float64\n",
            " 72  Serial_B1056                         90 non-null     float64\n",
            " 73  Serial_B1058                         90 non-null     float64\n",
            " 74  Serial_B1059                         90 non-null     float64\n",
            " 75  Serial_B1060                         90 non-null     float64\n",
            " 76  Serial_B1062                         90 non-null     float64\n",
            " 77  GridFins_False                       90 non-null     float64\n",
            " 78  GridFins_True                        90 non-null     float64\n",
            " 79  Reused_False                         90 non-null     float64\n",
            " 80  Reused_True                          90 non-null     float64\n",
            " 81  Legs_False                           90 non-null     float64\n",
            " 82  Legs_True                            90 non-null     float64\n",
            "dtypes: float64(83)\n",
            "memory usage: 58.5 KB\n"
          ]
        }
      ]
    },
    {
      "cell_type": "code",
      "source": [
        "X.head(100)"
      ],
      "metadata": {
        "colab": {
          "base_uri": "https://localhost:8080/",
          "height": 461
        },
        "id": "FNY6iziQ8A7A",
        "outputId": "5578b698-f0c7-4393-bdbd-2631948c5946"
      },
      "execution_count": null,
      "outputs": [
        {
          "output_type": "execute_result",
          "data": {
            "text/plain": [
              "    FlightNumber   PayloadMass  Flights  Block  ReusedCount  Orbit_ES-L1  \\\n",
              "0            1.0   6104.959412      1.0    1.0          0.0          0.0   \n",
              "1            2.0    525.000000      1.0    1.0          0.0          0.0   \n",
              "2            3.0    677.000000      1.0    1.0          0.0          0.0   \n",
              "3            4.0    500.000000      1.0    1.0          0.0          0.0   \n",
              "4            5.0   3170.000000      1.0    1.0          0.0          0.0   \n",
              "..           ...           ...      ...    ...          ...          ...   \n",
              "85          86.0  15400.000000      2.0    5.0          2.0          0.0   \n",
              "86          87.0  15400.000000      3.0    5.0          2.0          0.0   \n",
              "87          88.0  15400.000000      6.0    5.0          5.0          0.0   \n",
              "88          89.0  15400.000000      3.0    5.0          2.0          0.0   \n",
              "89          90.0   3681.000000      1.0    5.0          0.0          0.0   \n",
              "\n",
              "    Orbit_GEO  Orbit_GTO  Orbit_HEO  Orbit_ISS  ...  Serial_B1058  \\\n",
              "0         0.0        0.0        0.0        0.0  ...           0.0   \n",
              "1         0.0        0.0        0.0        0.0  ...           0.0   \n",
              "2         0.0        0.0        0.0        1.0  ...           0.0   \n",
              "3         0.0        0.0        0.0        0.0  ...           0.0   \n",
              "4         0.0        1.0        0.0        0.0  ...           0.0   \n",
              "..        ...        ...        ...        ...  ...           ...   \n",
              "85        0.0        0.0        0.0        0.0  ...           0.0   \n",
              "86        0.0        0.0        0.0        0.0  ...           1.0   \n",
              "87        0.0        0.0        0.0        0.0  ...           0.0   \n",
              "88        0.0        0.0        0.0        0.0  ...           0.0   \n",
              "89        0.0        0.0        0.0        0.0  ...           0.0   \n",
              "\n",
              "    Serial_B1059  Serial_B1060  Serial_B1062  GridFins_False  GridFins_True  \\\n",
              "0            0.0           0.0           0.0             1.0            0.0   \n",
              "1            0.0           0.0           0.0             1.0            0.0   \n",
              "2            0.0           0.0           0.0             1.0            0.0   \n",
              "3            0.0           0.0           0.0             1.0            0.0   \n",
              "4            0.0           0.0           0.0             1.0            0.0   \n",
              "..           ...           ...           ...             ...            ...   \n",
              "85           0.0           1.0           0.0             0.0            1.0   \n",
              "86           0.0           0.0           0.0             0.0            1.0   \n",
              "87           0.0           0.0           0.0             0.0            1.0   \n",
              "88           0.0           1.0           0.0             0.0            1.0   \n",
              "89           0.0           0.0           1.0             0.0            1.0   \n",
              "\n",
              "    Reused_False  Reused_True  Legs_False  Legs_True  \n",
              "0            1.0          0.0         1.0        0.0  \n",
              "1            1.0          0.0         1.0        0.0  \n",
              "2            1.0          0.0         1.0        0.0  \n",
              "3            1.0          0.0         1.0        0.0  \n",
              "4            1.0          0.0         1.0        0.0  \n",
              "..           ...          ...         ...        ...  \n",
              "85           0.0          1.0         0.0        1.0  \n",
              "86           0.0          1.0         0.0        1.0  \n",
              "87           0.0          1.0         0.0        1.0  \n",
              "88           0.0          1.0         0.0        1.0  \n",
              "89           1.0          0.0         0.0        1.0  \n",
              "\n",
              "[90 rows x 83 columns]"
            ],
            "text/html": [
              "\n",
              "  <div id=\"df-71a63225-a035-48d2-909b-93082118a5b7\" class=\"colab-df-container\">\n",
              "    <div>\n",
              "<style scoped>\n",
              "    .dataframe tbody tr th:only-of-type {\n",
              "        vertical-align: middle;\n",
              "    }\n",
              "\n",
              "    .dataframe tbody tr th {\n",
              "        vertical-align: top;\n",
              "    }\n",
              "\n",
              "    .dataframe thead th {\n",
              "        text-align: right;\n",
              "    }\n",
              "</style>\n",
              "<table border=\"1\" class=\"dataframe\">\n",
              "  <thead>\n",
              "    <tr style=\"text-align: right;\">\n",
              "      <th></th>\n",
              "      <th>FlightNumber</th>\n",
              "      <th>PayloadMass</th>\n",
              "      <th>Flights</th>\n",
              "      <th>Block</th>\n",
              "      <th>ReusedCount</th>\n",
              "      <th>Orbit_ES-L1</th>\n",
              "      <th>Orbit_GEO</th>\n",
              "      <th>Orbit_GTO</th>\n",
              "      <th>Orbit_HEO</th>\n",
              "      <th>Orbit_ISS</th>\n",
              "      <th>...</th>\n",
              "      <th>Serial_B1058</th>\n",
              "      <th>Serial_B1059</th>\n",
              "      <th>Serial_B1060</th>\n",
              "      <th>Serial_B1062</th>\n",
              "      <th>GridFins_False</th>\n",
              "      <th>GridFins_True</th>\n",
              "      <th>Reused_False</th>\n",
              "      <th>Reused_True</th>\n",
              "      <th>Legs_False</th>\n",
              "      <th>Legs_True</th>\n",
              "    </tr>\n",
              "  </thead>\n",
              "  <tbody>\n",
              "    <tr>\n",
              "      <th>0</th>\n",
              "      <td>1.0</td>\n",
              "      <td>6104.959412</td>\n",
              "      <td>1.0</td>\n",
              "      <td>1.0</td>\n",
              "      <td>0.0</td>\n",
              "      <td>0.0</td>\n",
              "      <td>0.0</td>\n",
              "      <td>0.0</td>\n",
              "      <td>0.0</td>\n",
              "      <td>0.0</td>\n",
              "      <td>...</td>\n",
              "      <td>0.0</td>\n",
              "      <td>0.0</td>\n",
              "      <td>0.0</td>\n",
              "      <td>0.0</td>\n",
              "      <td>1.0</td>\n",
              "      <td>0.0</td>\n",
              "      <td>1.0</td>\n",
              "      <td>0.0</td>\n",
              "      <td>1.0</td>\n",
              "      <td>0.0</td>\n",
              "    </tr>\n",
              "    <tr>\n",
              "      <th>1</th>\n",
              "      <td>2.0</td>\n",
              "      <td>525.000000</td>\n",
              "      <td>1.0</td>\n",
              "      <td>1.0</td>\n",
              "      <td>0.0</td>\n",
              "      <td>0.0</td>\n",
              "      <td>0.0</td>\n",
              "      <td>0.0</td>\n",
              "      <td>0.0</td>\n",
              "      <td>0.0</td>\n",
              "      <td>...</td>\n",
              "      <td>0.0</td>\n",
              "      <td>0.0</td>\n",
              "      <td>0.0</td>\n",
              "      <td>0.0</td>\n",
              "      <td>1.0</td>\n",
              "      <td>0.0</td>\n",
              "      <td>1.0</td>\n",
              "      <td>0.0</td>\n",
              "      <td>1.0</td>\n",
              "      <td>0.0</td>\n",
              "    </tr>\n",
              "    <tr>\n",
              "      <th>2</th>\n",
              "      <td>3.0</td>\n",
              "      <td>677.000000</td>\n",
              "      <td>1.0</td>\n",
              "      <td>1.0</td>\n",
              "      <td>0.0</td>\n",
              "      <td>0.0</td>\n",
              "      <td>0.0</td>\n",
              "      <td>0.0</td>\n",
              "      <td>0.0</td>\n",
              "      <td>1.0</td>\n",
              "      <td>...</td>\n",
              "      <td>0.0</td>\n",
              "      <td>0.0</td>\n",
              "      <td>0.0</td>\n",
              "      <td>0.0</td>\n",
              "      <td>1.0</td>\n",
              "      <td>0.0</td>\n",
              "      <td>1.0</td>\n",
              "      <td>0.0</td>\n",
              "      <td>1.0</td>\n",
              "      <td>0.0</td>\n",
              "    </tr>\n",
              "    <tr>\n",
              "      <th>3</th>\n",
              "      <td>4.0</td>\n",
              "      <td>500.000000</td>\n",
              "      <td>1.0</td>\n",
              "      <td>1.0</td>\n",
              "      <td>0.0</td>\n",
              "      <td>0.0</td>\n",
              "      <td>0.0</td>\n",
              "      <td>0.0</td>\n",
              "      <td>0.0</td>\n",
              "      <td>0.0</td>\n",
              "      <td>...</td>\n",
              "      <td>0.0</td>\n",
              "      <td>0.0</td>\n",
              "      <td>0.0</td>\n",
              "      <td>0.0</td>\n",
              "      <td>1.0</td>\n",
              "      <td>0.0</td>\n",
              "      <td>1.0</td>\n",
              "      <td>0.0</td>\n",
              "      <td>1.0</td>\n",
              "      <td>0.0</td>\n",
              "    </tr>\n",
              "    <tr>\n",
              "      <th>4</th>\n",
              "      <td>5.0</td>\n",
              "      <td>3170.000000</td>\n",
              "      <td>1.0</td>\n",
              "      <td>1.0</td>\n",
              "      <td>0.0</td>\n",
              "      <td>0.0</td>\n",
              "      <td>0.0</td>\n",
              "      <td>1.0</td>\n",
              "      <td>0.0</td>\n",
              "      <td>0.0</td>\n",
              "      <td>...</td>\n",
              "      <td>0.0</td>\n",
              "      <td>0.0</td>\n",
              "      <td>0.0</td>\n",
              "      <td>0.0</td>\n",
              "      <td>1.0</td>\n",
              "      <td>0.0</td>\n",
              "      <td>1.0</td>\n",
              "      <td>0.0</td>\n",
              "      <td>1.0</td>\n",
              "      <td>0.0</td>\n",
              "    </tr>\n",
              "    <tr>\n",
              "      <th>...</th>\n",
              "      <td>...</td>\n",
              "      <td>...</td>\n",
              "      <td>...</td>\n",
              "      <td>...</td>\n",
              "      <td>...</td>\n",
              "      <td>...</td>\n",
              "      <td>...</td>\n",
              "      <td>...</td>\n",
              "      <td>...</td>\n",
              "      <td>...</td>\n",
              "      <td>...</td>\n",
              "      <td>...</td>\n",
              "      <td>...</td>\n",
              "      <td>...</td>\n",
              "      <td>...</td>\n",
              "      <td>...</td>\n",
              "      <td>...</td>\n",
              "      <td>...</td>\n",
              "      <td>...</td>\n",
              "      <td>...</td>\n",
              "      <td>...</td>\n",
              "    </tr>\n",
              "    <tr>\n",
              "      <th>85</th>\n",
              "      <td>86.0</td>\n",
              "      <td>15400.000000</td>\n",
              "      <td>2.0</td>\n",
              "      <td>5.0</td>\n",
              "      <td>2.0</td>\n",
              "      <td>0.0</td>\n",
              "      <td>0.0</td>\n",
              "      <td>0.0</td>\n",
              "      <td>0.0</td>\n",
              "      <td>0.0</td>\n",
              "      <td>...</td>\n",
              "      <td>0.0</td>\n",
              "      <td>0.0</td>\n",
              "      <td>1.0</td>\n",
              "      <td>0.0</td>\n",
              "      <td>0.0</td>\n",
              "      <td>1.0</td>\n",
              "      <td>0.0</td>\n",
              "      <td>1.0</td>\n",
              "      <td>0.0</td>\n",
              "      <td>1.0</td>\n",
              "    </tr>\n",
              "    <tr>\n",
              "      <th>86</th>\n",
              "      <td>87.0</td>\n",
              "      <td>15400.000000</td>\n",
              "      <td>3.0</td>\n",
              "      <td>5.0</td>\n",
              "      <td>2.0</td>\n",
              "      <td>0.0</td>\n",
              "      <td>0.0</td>\n",
              "      <td>0.0</td>\n",
              "      <td>0.0</td>\n",
              "      <td>0.0</td>\n",
              "      <td>...</td>\n",
              "      <td>1.0</td>\n",
              "      <td>0.0</td>\n",
              "      <td>0.0</td>\n",
              "      <td>0.0</td>\n",
              "      <td>0.0</td>\n",
              "      <td>1.0</td>\n",
              "      <td>0.0</td>\n",
              "      <td>1.0</td>\n",
              "      <td>0.0</td>\n",
              "      <td>1.0</td>\n",
              "    </tr>\n",
              "    <tr>\n",
              "      <th>87</th>\n",
              "      <td>88.0</td>\n",
              "      <td>15400.000000</td>\n",
              "      <td>6.0</td>\n",
              "      <td>5.0</td>\n",
              "      <td>5.0</td>\n",
              "      <td>0.0</td>\n",
              "      <td>0.0</td>\n",
              "      <td>0.0</td>\n",
              "      <td>0.0</td>\n",
              "      <td>0.0</td>\n",
              "      <td>...</td>\n",
              "      <td>0.0</td>\n",
              "      <td>0.0</td>\n",
              "      <td>0.0</td>\n",
              "      <td>0.0</td>\n",
              "      <td>0.0</td>\n",
              "      <td>1.0</td>\n",
              "      <td>0.0</td>\n",
              "      <td>1.0</td>\n",
              "      <td>0.0</td>\n",
              "      <td>1.0</td>\n",
              "    </tr>\n",
              "    <tr>\n",
              "      <th>88</th>\n",
              "      <td>89.0</td>\n",
              "      <td>15400.000000</td>\n",
              "      <td>3.0</td>\n",
              "      <td>5.0</td>\n",
              "      <td>2.0</td>\n",
              "      <td>0.0</td>\n",
              "      <td>0.0</td>\n",
              "      <td>0.0</td>\n",
              "      <td>0.0</td>\n",
              "      <td>0.0</td>\n",
              "      <td>...</td>\n",
              "      <td>0.0</td>\n",
              "      <td>0.0</td>\n",
              "      <td>1.0</td>\n",
              "      <td>0.0</td>\n",
              "      <td>0.0</td>\n",
              "      <td>1.0</td>\n",
              "      <td>0.0</td>\n",
              "      <td>1.0</td>\n",
              "      <td>0.0</td>\n",
              "      <td>1.0</td>\n",
              "    </tr>\n",
              "    <tr>\n",
              "      <th>89</th>\n",
              "      <td>90.0</td>\n",
              "      <td>3681.000000</td>\n",
              "      <td>1.0</td>\n",
              "      <td>5.0</td>\n",
              "      <td>0.0</td>\n",
              "      <td>0.0</td>\n",
              "      <td>0.0</td>\n",
              "      <td>0.0</td>\n",
              "      <td>0.0</td>\n",
              "      <td>0.0</td>\n",
              "      <td>...</td>\n",
              "      <td>0.0</td>\n",
              "      <td>0.0</td>\n",
              "      <td>0.0</td>\n",
              "      <td>1.0</td>\n",
              "      <td>0.0</td>\n",
              "      <td>1.0</td>\n",
              "      <td>1.0</td>\n",
              "      <td>0.0</td>\n",
              "      <td>0.0</td>\n",
              "      <td>1.0</td>\n",
              "    </tr>\n",
              "  </tbody>\n",
              "</table>\n",
              "<p>90 rows × 83 columns</p>\n",
              "</div>\n",
              "    <div class=\"colab-df-buttons\">\n",
              "\n",
              "  <div class=\"colab-df-container\">\n",
              "    <button class=\"colab-df-convert\" onclick=\"convertToInteractive('df-71a63225-a035-48d2-909b-93082118a5b7')\"\n",
              "            title=\"Convert this dataframe to an interactive table.\"\n",
              "            style=\"display:none;\">\n",
              "\n",
              "  <svg xmlns=\"http://www.w3.org/2000/svg\" height=\"24px\" viewBox=\"0 -960 960 960\">\n",
              "    <path d=\"M120-120v-720h720v720H120Zm60-500h600v-160H180v160Zm220 220h160v-160H400v160Zm0 220h160v-160H400v160ZM180-400h160v-160H180v160Zm440 0h160v-160H620v160ZM180-180h160v-160H180v160Zm440 0h160v-160H620v160Z\"/>\n",
              "  </svg>\n",
              "    </button>\n",
              "\n",
              "  <style>\n",
              "    .colab-df-container {\n",
              "      display:flex;\n",
              "      gap: 12px;\n",
              "    }\n",
              "\n",
              "    .colab-df-convert {\n",
              "      background-color: #E8F0FE;\n",
              "      border: none;\n",
              "      border-radius: 50%;\n",
              "      cursor: pointer;\n",
              "      display: none;\n",
              "      fill: #1967D2;\n",
              "      height: 32px;\n",
              "      padding: 0 0 0 0;\n",
              "      width: 32px;\n",
              "    }\n",
              "\n",
              "    .colab-df-convert:hover {\n",
              "      background-color: #E2EBFA;\n",
              "      box-shadow: 0px 1px 2px rgba(60, 64, 67, 0.3), 0px 1px 3px 1px rgba(60, 64, 67, 0.15);\n",
              "      fill: #174EA6;\n",
              "    }\n",
              "\n",
              "    .colab-df-buttons div {\n",
              "      margin-bottom: 4px;\n",
              "    }\n",
              "\n",
              "    [theme=dark] .colab-df-convert {\n",
              "      background-color: #3B4455;\n",
              "      fill: #D2E3FC;\n",
              "    }\n",
              "\n",
              "    [theme=dark] .colab-df-convert:hover {\n",
              "      background-color: #434B5C;\n",
              "      box-shadow: 0px 1px 3px 1px rgba(0, 0, 0, 0.15);\n",
              "      filter: drop-shadow(0px 1px 2px rgba(0, 0, 0, 0.3));\n",
              "      fill: #FFFFFF;\n",
              "    }\n",
              "  </style>\n",
              "\n",
              "    <script>\n",
              "      const buttonEl =\n",
              "        document.querySelector('#df-71a63225-a035-48d2-909b-93082118a5b7 button.colab-df-convert');\n",
              "      buttonEl.style.display =\n",
              "        google.colab.kernel.accessAllowed ? 'block' : 'none';\n",
              "\n",
              "      async function convertToInteractive(key) {\n",
              "        const element = document.querySelector('#df-71a63225-a035-48d2-909b-93082118a5b7');\n",
              "        const dataTable =\n",
              "          await google.colab.kernel.invokeFunction('convertToInteractive',\n",
              "                                                    [key], {});\n",
              "        if (!dataTable) return;\n",
              "\n",
              "        const docLinkHtml = 'Like what you see? Visit the ' +\n",
              "          '<a target=\"_blank\" href=https://colab.research.google.com/notebooks/data_table.ipynb>data table notebook</a>'\n",
              "          + ' to learn more about interactive tables.';\n",
              "        element.innerHTML = '';\n",
              "        dataTable['output_type'] = 'display_data';\n",
              "        await google.colab.output.renderOutput(dataTable, element);\n",
              "        const docLink = document.createElement('div');\n",
              "        docLink.innerHTML = docLinkHtml;\n",
              "        element.appendChild(docLink);\n",
              "      }\n",
              "    </script>\n",
              "  </div>\n",
              "\n",
              "\n",
              "<div id=\"df-dbdd9cba-542a-4c3e-8fcd-bf516e61a0ef\">\n",
              "  <button class=\"colab-df-quickchart\" onclick=\"quickchart('df-dbdd9cba-542a-4c3e-8fcd-bf516e61a0ef')\"\n",
              "            title=\"Suggest charts\"\n",
              "            style=\"display:none;\">\n",
              "\n",
              "<svg xmlns=\"http://www.w3.org/2000/svg\" height=\"24px\"viewBox=\"0 0 24 24\"\n",
              "     width=\"24px\">\n",
              "    <g>\n",
              "        <path d=\"M19 3H5c-1.1 0-2 .9-2 2v14c0 1.1.9 2 2 2h14c1.1 0 2-.9 2-2V5c0-1.1-.9-2-2-2zM9 17H7v-7h2v7zm4 0h-2V7h2v10zm4 0h-2v-4h2v4z\"/>\n",
              "    </g>\n",
              "</svg>\n",
              "  </button>\n",
              "\n",
              "<style>\n",
              "  .colab-df-quickchart {\n",
              "      --bg-color: #E8F0FE;\n",
              "      --fill-color: #1967D2;\n",
              "      --hover-bg-color: #E2EBFA;\n",
              "      --hover-fill-color: #174EA6;\n",
              "      --disabled-fill-color: #AAA;\n",
              "      --disabled-bg-color: #DDD;\n",
              "  }\n",
              "\n",
              "  [theme=dark] .colab-df-quickchart {\n",
              "      --bg-color: #3B4455;\n",
              "      --fill-color: #D2E3FC;\n",
              "      --hover-bg-color: #434B5C;\n",
              "      --hover-fill-color: #FFFFFF;\n",
              "      --disabled-bg-color: #3B4455;\n",
              "      --disabled-fill-color: #666;\n",
              "  }\n",
              "\n",
              "  .colab-df-quickchart {\n",
              "    background-color: var(--bg-color);\n",
              "    border: none;\n",
              "    border-radius: 50%;\n",
              "    cursor: pointer;\n",
              "    display: none;\n",
              "    fill: var(--fill-color);\n",
              "    height: 32px;\n",
              "    padding: 0;\n",
              "    width: 32px;\n",
              "  }\n",
              "\n",
              "  .colab-df-quickchart:hover {\n",
              "    background-color: var(--hover-bg-color);\n",
              "    box-shadow: 0 1px 2px rgba(60, 64, 67, 0.3), 0 1px 3px 1px rgba(60, 64, 67, 0.15);\n",
              "    fill: var(--button-hover-fill-color);\n",
              "  }\n",
              "\n",
              "  .colab-df-quickchart-complete:disabled,\n",
              "  .colab-df-quickchart-complete:disabled:hover {\n",
              "    background-color: var(--disabled-bg-color);\n",
              "    fill: var(--disabled-fill-color);\n",
              "    box-shadow: none;\n",
              "  }\n",
              "\n",
              "  .colab-df-spinner {\n",
              "    border: 2px solid var(--fill-color);\n",
              "    border-color: transparent;\n",
              "    border-bottom-color: var(--fill-color);\n",
              "    animation:\n",
              "      spin 1s steps(1) infinite;\n",
              "  }\n",
              "\n",
              "  @keyframes spin {\n",
              "    0% {\n",
              "      border-color: transparent;\n",
              "      border-bottom-color: var(--fill-color);\n",
              "      border-left-color: var(--fill-color);\n",
              "    }\n",
              "    20% {\n",
              "      border-color: transparent;\n",
              "      border-left-color: var(--fill-color);\n",
              "      border-top-color: var(--fill-color);\n",
              "    }\n",
              "    30% {\n",
              "      border-color: transparent;\n",
              "      border-left-color: var(--fill-color);\n",
              "      border-top-color: var(--fill-color);\n",
              "      border-right-color: var(--fill-color);\n",
              "    }\n",
              "    40% {\n",
              "      border-color: transparent;\n",
              "      border-right-color: var(--fill-color);\n",
              "      border-top-color: var(--fill-color);\n",
              "    }\n",
              "    60% {\n",
              "      border-color: transparent;\n",
              "      border-right-color: var(--fill-color);\n",
              "    }\n",
              "    80% {\n",
              "      border-color: transparent;\n",
              "      border-right-color: var(--fill-color);\n",
              "      border-bottom-color: var(--fill-color);\n",
              "    }\n",
              "    90% {\n",
              "      border-color: transparent;\n",
              "      border-bottom-color: var(--fill-color);\n",
              "    }\n",
              "  }\n",
              "</style>\n",
              "\n",
              "  <script>\n",
              "    async function quickchart(key) {\n",
              "      const quickchartButtonEl =\n",
              "        document.querySelector('#' + key + ' button');\n",
              "      quickchartButtonEl.disabled = true;  // To prevent multiple clicks.\n",
              "      quickchartButtonEl.classList.add('colab-df-spinner');\n",
              "      try {\n",
              "        const charts = await google.colab.kernel.invokeFunction(\n",
              "            'suggestCharts', [key], {});\n",
              "      } catch (error) {\n",
              "        console.error('Error during call to suggestCharts:', error);\n",
              "      }\n",
              "      quickchartButtonEl.classList.remove('colab-df-spinner');\n",
              "      quickchartButtonEl.classList.add('colab-df-quickchart-complete');\n",
              "    }\n",
              "    (() => {\n",
              "      let quickchartButtonEl =\n",
              "        document.querySelector('#df-dbdd9cba-542a-4c3e-8fcd-bf516e61a0ef button');\n",
              "      quickchartButtonEl.style.display =\n",
              "        google.colab.kernel.accessAllowed ? 'block' : 'none';\n",
              "    })();\n",
              "  </script>\n",
              "</div>\n",
              "\n",
              "    </div>\n",
              "  </div>\n"
            ],
            "application/vnd.google.colaboratory.intrinsic+json": {
              "type": "dataframe",
              "variable_name": "X"
            }
          },
          "metadata": {},
          "execution_count": 8
        }
      ]
    },
    {
      "cell_type": "markdown",
      "source": [
        "###Limpieza de los datasets"
      ],
      "metadata": {
        "id": "IrpHJ7L6B0Bi"
      }
    },
    {
      "cell_type": "code",
      "source": [
        "# Asegúrate de que la columna 'Class' existe en el DataFrame\n",
        "if 'Class' in data.columns:\n",
        "    # Extraer la columna 'Class' y convertirla a un array de NumPy\n",
        "    Y = data['Class'].to_numpy()\n",
        "\n",
        "    # Verificar el tipo de Y y el contenido\n",
        "    print(type(Y))  # Debe ser <class 'numpy.ndarray'>\n",
        "    print(Y)        # Mostrar los primeros elementos del array\n",
        "else:\n",
        "    print(\"La columna 'Class' no se encuentra en el DataFrame.\")"
      ],
      "metadata": {
        "colab": {
          "base_uri": "https://localhost:8080/"
        },
        "id": "_qjkjRSp8HJY",
        "outputId": "46017496-5e8f-46b7-88bb-760dd6fa5ad2"
      },
      "execution_count": null,
      "outputs": [
        {
          "output_type": "stream",
          "name": "stdout",
          "text": [
            "<class 'numpy.ndarray'>\n",
            "[0 0 0 0 0 0 1 1 0 0 0 0 1 0 0 0 1 0 0 1 1 1 1 1 0 1 1 0 1 1 0 1 1 1 0 1 1\n",
            " 1 1 1 1 1 1 1 1 0 0 0 1 1 0 0 1 1 1 1 1 1 1 0 0 1 1 1 1 1 1 0 1 1 1 1 0 1\n",
            " 0 1 0 1 1 1 1 1 1 1 1 1 1 1 1 1]\n"
          ]
        }
      ]
    },
    {
      "cell_type": "code",
      "source": [
        "from sklearn.preprocessing import StandardScaler\n",
        "# Crear una instancia de StandardScaler\n",
        "transform = StandardScaler()\n",
        "\n",
        "# Ajustar el transformador a los datos y transformarlos\n",
        "X_standardized = transform.fit_transform(X)\n",
        "\n",
        "# Reasignar el resultado estandarizado a la variable X\n",
        "X = X_standardized\n",
        "\n",
        "# Verificar el cambio\n",
        "print(X[:5])  # Mostrar las primeras filas del array estandarizado"
      ],
      "metadata": {
        "colab": {
          "base_uri": "https://localhost:8080/"
        },
        "id": "d9aL2JTn8JrC",
        "outputId": "9073fd9f-a4a2-4371-981b-57e30b2797b7"
      },
      "execution_count": null,
      "outputs": [
        {
          "output_type": "stream",
          "name": "stdout",
          "text": [
            "[[-1.71291154e+00 -1.94814463e-16 -6.53912840e-01 -1.57589457e+00\n",
            "  -9.73440458e-01 -1.05999788e-01 -1.05999788e-01 -6.54653671e-01\n",
            "  -1.05999788e-01 -5.51677284e-01  3.44342023e+00 -1.85695338e-01\n",
            "  -3.33333333e-01 -1.05999788e-01 -2.42535625e-01 -4.29197538e-01\n",
            "   7.97724035e-01 -5.68796459e-01 -4.10890702e-01 -4.10890702e-01\n",
            "  -1.50755672e-01 -7.97724035e-01 -1.50755672e-01 -3.92232270e-01\n",
            "   9.43398113e+00 -1.05999788e-01 -1.05999788e-01 -1.05999788e-01\n",
            "  -1.05999788e-01 -1.05999788e-01 -1.05999788e-01 -1.05999788e-01\n",
            "  -1.05999788e-01 -1.05999788e-01 -1.05999788e-01 -1.05999788e-01\n",
            "  -1.05999788e-01 -1.05999788e-01 -1.05999788e-01 -1.05999788e-01\n",
            "  -1.05999788e-01 -1.05999788e-01 -1.05999788e-01 -1.50755672e-01\n",
            "  -1.05999788e-01 -1.05999788e-01 -1.05999788e-01 -1.05999788e-01\n",
            "  -1.05999788e-01 -1.50755672e-01 -1.05999788e-01 -1.50755672e-01\n",
            "  -1.50755672e-01 -1.05999788e-01 -1.50755672e-01 -1.50755672e-01\n",
            "  -1.05999788e-01 -1.05999788e-01 -1.50755672e-01 -1.50755672e-01\n",
            "  -1.50755672e-01 -1.05999788e-01 -1.05999788e-01 -1.05999788e-01\n",
            "  -1.50755672e-01 -2.15665546e-01 -1.85695338e-01 -2.15665546e-01\n",
            "  -2.67261242e-01 -1.05999788e-01 -2.42535625e-01 -1.05999788e-01\n",
            "  -2.15665546e-01 -1.85695338e-01 -2.15665546e-01 -1.85695338e-01\n",
            "  -1.05999788e-01  1.87082869e+00 -1.87082869e+00  8.35531692e-01\n",
            "  -8.35531692e-01  1.93309133e+00 -1.93309133e+00]\n",
            " [-1.67441914e+00 -1.19523159e+00 -6.53912840e-01 -1.57589457e+00\n",
            "  -9.73440458e-01 -1.05999788e-01 -1.05999788e-01 -6.54653671e-01\n",
            "  -1.05999788e-01 -5.51677284e-01  3.44342023e+00 -1.85695338e-01\n",
            "  -3.33333333e-01 -1.05999788e-01 -2.42535625e-01 -4.29197538e-01\n",
            "   7.97724035e-01 -5.68796459e-01 -4.10890702e-01 -4.10890702e-01\n",
            "  -1.50755672e-01 -7.97724035e-01 -1.50755672e-01 -3.92232270e-01\n",
            "  -1.05999788e-01  9.43398113e+00 -1.05999788e-01 -1.05999788e-01\n",
            "  -1.05999788e-01 -1.05999788e-01 -1.05999788e-01 -1.05999788e-01\n",
            "  -1.05999788e-01 -1.05999788e-01 -1.05999788e-01 -1.05999788e-01\n",
            "  -1.05999788e-01 -1.05999788e-01 -1.05999788e-01 -1.05999788e-01\n",
            "  -1.05999788e-01 -1.05999788e-01 -1.05999788e-01 -1.50755672e-01\n",
            "  -1.05999788e-01 -1.05999788e-01 -1.05999788e-01 -1.05999788e-01\n",
            "  -1.05999788e-01 -1.50755672e-01 -1.05999788e-01 -1.50755672e-01\n",
            "  -1.50755672e-01 -1.05999788e-01 -1.50755672e-01 -1.50755672e-01\n",
            "  -1.05999788e-01 -1.05999788e-01 -1.50755672e-01 -1.50755672e-01\n",
            "  -1.50755672e-01 -1.05999788e-01 -1.05999788e-01 -1.05999788e-01\n",
            "  -1.50755672e-01 -2.15665546e-01 -1.85695338e-01 -2.15665546e-01\n",
            "  -2.67261242e-01 -1.05999788e-01 -2.42535625e-01 -1.05999788e-01\n",
            "  -2.15665546e-01 -1.85695338e-01 -2.15665546e-01 -1.85695338e-01\n",
            "  -1.05999788e-01  1.87082869e+00 -1.87082869e+00  8.35531692e-01\n",
            "  -8.35531692e-01  1.93309133e+00 -1.93309133e+00]\n",
            " [-1.63592675e+00 -1.16267307e+00 -6.53912840e-01 -1.57589457e+00\n",
            "  -9.73440458e-01 -1.05999788e-01 -1.05999788e-01 -6.54653671e-01\n",
            "  -1.05999788e-01  1.81265393e+00 -2.90408935e-01 -1.85695338e-01\n",
            "  -3.33333333e-01 -1.05999788e-01 -2.42535625e-01 -4.29197538e-01\n",
            "   7.97724035e-01 -5.68796459e-01 -4.10890702e-01 -4.10890702e-01\n",
            "  -1.50755672e-01 -7.97724035e-01 -1.50755672e-01 -3.92232270e-01\n",
            "  -1.05999788e-01 -1.05999788e-01  9.43398113e+00 -1.05999788e-01\n",
            "  -1.05999788e-01 -1.05999788e-01 -1.05999788e-01 -1.05999788e-01\n",
            "  -1.05999788e-01 -1.05999788e-01 -1.05999788e-01 -1.05999788e-01\n",
            "  -1.05999788e-01 -1.05999788e-01 -1.05999788e-01 -1.05999788e-01\n",
            "  -1.05999788e-01 -1.05999788e-01 -1.05999788e-01 -1.50755672e-01\n",
            "  -1.05999788e-01 -1.05999788e-01 -1.05999788e-01 -1.05999788e-01\n",
            "  -1.05999788e-01 -1.50755672e-01 -1.05999788e-01 -1.50755672e-01\n",
            "  -1.50755672e-01 -1.05999788e-01 -1.50755672e-01 -1.50755672e-01\n",
            "  -1.05999788e-01 -1.05999788e-01 -1.50755672e-01 -1.50755672e-01\n",
            "  -1.50755672e-01 -1.05999788e-01 -1.05999788e-01 -1.05999788e-01\n",
            "  -1.50755672e-01 -2.15665546e-01 -1.85695338e-01 -2.15665546e-01\n",
            "  -2.67261242e-01 -1.05999788e-01 -2.42535625e-01 -1.05999788e-01\n",
            "  -2.15665546e-01 -1.85695338e-01 -2.15665546e-01 -1.85695338e-01\n",
            "  -1.05999788e-01  1.87082869e+00 -1.87082869e+00  8.35531692e-01\n",
            "  -8.35531692e-01  1.93309133e+00 -1.93309133e+00]\n",
            " [-1.59743435e+00 -1.20058661e+00 -6.53912840e-01 -1.57589457e+00\n",
            "  -9.73440458e-01 -1.05999788e-01 -1.05999788e-01 -6.54653671e-01\n",
            "  -1.05999788e-01 -5.51677284e-01 -2.90408935e-01 -1.85695338e-01\n",
            "   3.00000000e+00 -1.05999788e-01 -2.42535625e-01 -4.29197538e-01\n",
            "  -1.25356634e+00 -5.68796459e-01  2.43373723e+00 -4.10890702e-01\n",
            "  -1.50755672e-01 -7.97724035e-01 -1.50755672e-01 -3.92232270e-01\n",
            "  -1.05999788e-01 -1.05999788e-01 -1.05999788e-01  9.43398113e+00\n",
            "  -1.05999788e-01 -1.05999788e-01 -1.05999788e-01 -1.05999788e-01\n",
            "  -1.05999788e-01 -1.05999788e-01 -1.05999788e-01 -1.05999788e-01\n",
            "  -1.05999788e-01 -1.05999788e-01 -1.05999788e-01 -1.05999788e-01\n",
            "  -1.05999788e-01 -1.05999788e-01 -1.05999788e-01 -1.50755672e-01\n",
            "  -1.05999788e-01 -1.05999788e-01 -1.05999788e-01 -1.05999788e-01\n",
            "  -1.05999788e-01 -1.50755672e-01 -1.05999788e-01 -1.50755672e-01\n",
            "  -1.50755672e-01 -1.05999788e-01 -1.50755672e-01 -1.50755672e-01\n",
            "  -1.05999788e-01 -1.05999788e-01 -1.50755672e-01 -1.50755672e-01\n",
            "  -1.50755672e-01 -1.05999788e-01 -1.05999788e-01 -1.05999788e-01\n",
            "  -1.50755672e-01 -2.15665546e-01 -1.85695338e-01 -2.15665546e-01\n",
            "  -2.67261242e-01 -1.05999788e-01 -2.42535625e-01 -1.05999788e-01\n",
            "  -2.15665546e-01 -1.85695338e-01 -2.15665546e-01 -1.85695338e-01\n",
            "  -1.05999788e-01  1.87082869e+00 -1.87082869e+00  8.35531692e-01\n",
            "  -8.35531692e-01  1.93309133e+00 -1.93309133e+00]\n",
            " [-1.55894196e+00 -6.28670558e-01 -6.53912840e-01 -1.57589457e+00\n",
            "  -9.73440458e-01 -1.05999788e-01 -1.05999788e-01  1.52752523e+00\n",
            "  -1.05999788e-01 -5.51677284e-01 -2.90408935e-01 -1.85695338e-01\n",
            "  -3.33333333e-01 -1.05999788e-01 -2.42535625e-01 -4.29197538e-01\n",
            "   7.97724035e-01 -5.68796459e-01 -4.10890702e-01 -4.10890702e-01\n",
            "  -1.50755672e-01 -7.97724035e-01 -1.50755672e-01 -3.92232270e-01\n",
            "  -1.05999788e-01 -1.05999788e-01 -1.05999788e-01 -1.05999788e-01\n",
            "   9.43398113e+00 -1.05999788e-01 -1.05999788e-01 -1.05999788e-01\n",
            "  -1.05999788e-01 -1.05999788e-01 -1.05999788e-01 -1.05999788e-01\n",
            "  -1.05999788e-01 -1.05999788e-01 -1.05999788e-01 -1.05999788e-01\n",
            "  -1.05999788e-01 -1.05999788e-01 -1.05999788e-01 -1.50755672e-01\n",
            "  -1.05999788e-01 -1.05999788e-01 -1.05999788e-01 -1.05999788e-01\n",
            "  -1.05999788e-01 -1.50755672e-01 -1.05999788e-01 -1.50755672e-01\n",
            "  -1.50755672e-01 -1.05999788e-01 -1.50755672e-01 -1.50755672e-01\n",
            "  -1.05999788e-01 -1.05999788e-01 -1.50755672e-01 -1.50755672e-01\n",
            "  -1.50755672e-01 -1.05999788e-01 -1.05999788e-01 -1.05999788e-01\n",
            "  -1.50755672e-01 -2.15665546e-01 -1.85695338e-01 -2.15665546e-01\n",
            "  -2.67261242e-01 -1.05999788e-01 -2.42535625e-01 -1.05999788e-01\n",
            "  -2.15665546e-01 -1.85695338e-01 -2.15665546e-01 -1.85695338e-01\n",
            "  -1.05999788e-01  1.87082869e+00 -1.87082869e+00  8.35531692e-01\n",
            "  -8.35531692e-01  1.93309133e+00 -1.93309133e+00]]\n"
          ]
        }
      ]
    },
    {
      "cell_type": "markdown",
      "source": [
        "### Particion de los datos"
      ],
      "metadata": {
        "id": "YVFyKJT2B6Np"
      }
    },
    {
      "cell_type": "code",
      "source": [
        "from sklearn.model_selection import train_test_split\n",
        "\n",
        "# Dividir los datos en conjuntos de entrenamiento y prueba\n",
        "X_train, X_test, Y_train, Y_test = train_test_split(\n",
        "    X,  # Datos de características\n",
        "    Y,  # Etiquetas\n",
        "    test_size=0.2,  # Tamaño del conjunto de prueba (20% de los datos)\n",
        "    random_state=2  # Semilla para reproducibilidad\n",
        ")\n",
        "\n",
        "# Verificar las dimensiones de los conjuntos resultantes\n",
        "print(\"Dimensiones de los conjuntos de entrenamiento y prueba:\")\n",
        "print(f\"X_train: {X_train.shape}\")\n",
        "print(f\"X_test: {X_test.shape}\")\n",
        "print(f\"Y_train: {Y_train.shape}\")\n",
        "print(f\"Y_test: {Y_test.shape}\")"
      ],
      "metadata": {
        "colab": {
          "base_uri": "https://localhost:8080/"
        },
        "id": "Ywkd08198OdJ",
        "outputId": "891c41b7-898a-47e6-a201-1953876113f9"
      },
      "execution_count": null,
      "outputs": [
        {
          "output_type": "stream",
          "name": "stdout",
          "text": [
            "Dimensiones de los conjuntos de entrenamiento y prueba:\n",
            "X_train: (72, 83)\n",
            "X_test: (18, 83)\n",
            "Y_train: (72,)\n",
            "Y_test: (18,)\n"
          ]
        }
      ]
    },
    {
      "cell_type": "code",
      "source": [
        "Y_test.shape"
      ],
      "metadata": {
        "colab": {
          "base_uri": "https://localhost:8080/"
        },
        "id": "2X3S2sLo8QL-",
        "outputId": "4efea23d-257b-4d2b-cf17-b0767841018e"
      },
      "execution_count": null,
      "outputs": [
        {
          "output_type": "execute_result",
          "data": {
            "text/plain": [
              "(18,)"
            ]
          },
          "metadata": {},
          "execution_count": 12
        }
      ]
    },
    {
      "cell_type": "markdown",
      "source": [
        "### Regresion Logistica"
      ],
      "metadata": {
        "id": "0XthViZQKwkN"
      }
    },
    {
      "cell_type": "code",
      "source": [
        "from sklearn.linear_model import LogisticRegression\n",
        "from sklearn.model_selection import GridSearchCV\n",
        "\n",
        "# Crear el objeto de regresión logística\n",
        "logreg = LogisticRegression()\n",
        "\n",
        "# Definir los parámetros para la búsqueda en cuadrícula\n",
        "parameters = {\n",
        "    'C': [0.01, 0.1, 1],\n",
        "    'penalty': ['l2'],\n",
        "    'solver': ['lbfgs']\n",
        "}\n",
        "\n",
        "# Crear el objeto GridSearchCV con validación cruzada de 10 pliegues\n",
        "logreg_cv = GridSearchCV(estimator=logreg, param_grid=parameters, cv=10)\n",
        "\n",
        "# Ajustar GridSearchCV a los datos de entrenamiento\n",
        "logreg_cv.fit(X_train, Y_train)\n",
        "\n",
        "# Mostrar los mejores parámetros encontrados\n",
        "print(\"Mejores parámetros encontrados:\")\n",
        "print(logreg_cv.best_params_)\n",
        "\n",
        "# Mostrar la mejor puntuación obtenida\n",
        "print(\"Mejor puntuación obtenida:\")\n",
        "print(logreg_cv.best_score_)"
      ],
      "metadata": {
        "colab": {
          "base_uri": "https://localhost:8080/"
        },
        "id": "6N2d2Ze58S3T",
        "outputId": "48d3e5df-467b-4127-d389-8421b665f5d3"
      },
      "execution_count": null,
      "outputs": [
        {
          "output_type": "stream",
          "name": "stdout",
          "text": [
            "Mejores parámetros encontrados:\n",
            "{'C': 0.01, 'penalty': 'l2', 'solver': 'lbfgs'}\n",
            "Mejor puntuación obtenida:\n",
            "0.8464285714285713\n"
          ]
        }
      ]
    },
    {
      "cell_type": "code",
      "source": [
        "# Definir los parámetros para la búsqueda en cuadrícula\n",
        "parameters = {\n",
        "    'C': [0.01, 0.1, 1],         # Regularización\n",
        "    'penalty': ['l2'],            # Tipo de penalización: L2 (ridge)\n",
        "    'solver': ['lbfgs']           # Algoritmo de optimización\n",
        "}\n",
        "\n",
        "# Crear el objeto de regresión logística\n",
        "lr = LogisticRegression()\n",
        "\n",
        "# Crear el objeto GridSearchCV con validación cruzada de 10 pliegues\n",
        "logreg_cv = GridSearchCV(estimator=lr, param_grid=parameters, cv=10)\n",
        "\n",
        "# Ajustar GridSearchCV a los datos de entrenamiento\n",
        "logreg_cv.fit(X_train, Y_train)\n",
        "\n",
        "# Mostrar los mejores parámetros encontrados\n",
        "print(\"Mejores parámetros encontrados:\")\n",
        "print(logreg_cv.best_params_)\n",
        "\n",
        "# Mostrar la mejor puntuación obtenida\n",
        "print(\"Mejor puntuación obtenida:\")\n",
        "print(logreg_cv.best_score_)"
      ],
      "metadata": {
        "colab": {
          "base_uri": "https://localhost:8080/"
        },
        "id": "MMptiesU8WNL",
        "outputId": "a2cc2ee7-cb05-4c13-f75e-51d2c2db2e54"
      },
      "execution_count": null,
      "outputs": [
        {
          "output_type": "stream",
          "name": "stdout",
          "text": [
            "Mejores parámetros encontrados:\n",
            "{'C': 0.01, 'penalty': 'l2', 'solver': 'lbfgs'}\n",
            "Mejor puntuación obtenida:\n",
            "0.8464285714285713\n"
          ]
        }
      ]
    },
    {
      "cell_type": "code",
      "source": [
        "print(\"tuned hpyerparameters :(best parameters) \",logreg_cv.best_params_)\n",
        "print(\"accuracy :\",logreg_cv.best_score_)"
      ],
      "metadata": {
        "colab": {
          "base_uri": "https://localhost:8080/"
        },
        "id": "IvZm4Tn48YjM",
        "outputId": "2a1b7acc-4856-495c-af9a-9b4ea2728ff4"
      },
      "execution_count": null,
      "outputs": [
        {
          "output_type": "stream",
          "name": "stdout",
          "text": [
            "tuned hpyerparameters :(best parameters)  {'C': 0.01, 'penalty': 'l2', 'solver': 'lbfgs'}\n",
            "accuracy : 0.8464285714285713\n"
          ]
        }
      ]
    },
    {
      "cell_type": "code",
      "source": [
        "# Calcular la precisión (accuracy) en los datos de prueba\n",
        "test_accuracy = logreg_cv.score(X_test, Y_test)\n",
        "\n",
        "# Mostrar la precisión en los datos de prueba\n",
        "print(\"Precisión en los datos de prueba:\")\n",
        "print(test_accuracy)"
      ],
      "metadata": {
        "colab": {
          "base_uri": "https://localhost:8080/"
        },
        "id": "dO92q_lW8a8T",
        "outputId": "cf94be9f-6051-4c82-c1de-78a106225adc"
      },
      "execution_count": null,
      "outputs": [
        {
          "output_type": "stream",
          "name": "stdout",
          "text": [
            "Precisión en los datos de prueba:\n",
            "0.8333333333333334\n"
          ]
        }
      ]
    },
    {
      "cell_type": "markdown",
      "source": [
        "##Matriz de confusion (Regresion Logistica)"
      ],
      "metadata": {
        "id": "_5Z14_OZK375"
      }
    },
    {
      "cell_type": "code",
      "source": [
        "yhat=logreg_cv.predict(X_test)\n",
        "plot_confusion_matrix(Y_test,yhat)"
      ],
      "metadata": {
        "colab": {
          "base_uri": "https://localhost:8080/",
          "height": 472
        },
        "id": "om3tWO9o8cl9",
        "outputId": "f095d7a0-0a8e-4bc1-c70c-7e442967ab75"
      },
      "execution_count": null,
      "outputs": [
        {
          "output_type": "display_data",
          "data": {
            "text/plain": [
              "<Figure size 640x480 with 2 Axes>"
            ],
            "image/png": "[encoded data removed]"
          },
          "metadata": {}
        }
      ]
    },
    {
      "cell_type": "markdown",
      "source": [
        "### SVM"
      ],
      "metadata": {
        "id": "eg2OTXcgE9HO"
      }
    },
    {
      "cell_type": "code",
      "source": [
        "parameters = {'kernel':('linear', 'rbf','poly','rbf', 'sigmoid'),\n",
        "              'C': np.logspace(-3, 3, 5),\n",
        "              'gamma':np.logspace(-3, 3, 5)}\n",
        "svm = SVC()"
      ],
      "metadata": {
        "id": "tE4T9vKA8hHW"
      },
      "execution_count": null,
      "outputs": []
    },
    {
      "cell_type": "code",
      "source": [
        "from sklearn.svm import SVC\n",
        "from sklearn.model_selection import GridSearchCV\n",
        "import numpy as np\n",
        "\n",
        "# Definir los parámetros para la búsqueda en cuadrícula\n",
        "parameters = {\n",
        "    'kernel': ['linear', 'rbf', 'poly', 'sigmoid'],  # Tipos de núcleo (kernel)\n",
        "    'C': np.logspace(-3, 3, 5),                       # Parámetro de regularización\n",
        "    'gamma': np.logspace(-3, 3, 5)                    # Parámetro gamma para kernels no lineales\n",
        "}\n",
        "\n",
        "# Crear el objeto de SVM\n",
        "svm = SVC()\n",
        "\n",
        "# Crear el objeto GridSearchCV con validación cruzada de 10 pliegues\n",
        "svm_cv = GridSearchCV(estimator=svm, param_grid=parameters, cv=10)\n",
        "\n",
        "# Ajustar GridSearchCV a los datos de entrenamiento\n",
        "svm_cv.fit(X_train, Y_train)\n",
        "\n",
        "# Mostrar los mejores parámetros encontrados\n",
        "print(\"Mejores parámetros encontrados:\")\n",
        "print(svm_cv.best_params_)\n",
        "\n",
        "# Mostrar la mejor puntuación obtenida\n",
        "print(\"Mejor puntuación obtenida:\")\n",
        "print(svm_cv.best_score_)"
      ],
      "metadata": {
        "colab": {
          "base_uri": "https://localhost:8080/"
        },
        "id": "NjjPdEhQ8jM1",
        "outputId": "177adfd4-fe01-4d42-c3d5-fee01f549d98"
      },
      "execution_count": null,
      "outputs": [
        {
          "output_type": "stream",
          "name": "stdout",
          "text": [
            "Mejores parámetros encontrados:\n",
            "{'C': 1.0, 'gamma': 0.03162277660168379, 'kernel': 'sigmoid'}\n",
            "Mejor puntuación obtenida:\n",
            "0.8482142857142856\n"
          ]
        }
      ]
    },
    {
      "cell_type": "code",
      "source": [
        "print(\"tuned hpyerparameters :(best parameters) \",svm_cv.best_params_)\n",
        "print(\"accuracy :\",svm_cv.best_score_)"
      ],
      "metadata": {
        "colab": {
          "base_uri": "https://localhost:8080/"
        },
        "id": "VmBtV13N8jnq",
        "outputId": "6c3f39b2-6120-475e-fe8a-5967187cc9ee"
      },
      "execution_count": null,
      "outputs": [
        {
          "output_type": "stream",
          "name": "stdout",
          "text": [
            "tuned hpyerparameters :(best parameters)  {'C': 1.0, 'gamma': 0.03162277660168379, 'kernel': 'sigmoid'}\n",
            "accuracy : 0.8482142857142856\n"
          ]
        }
      ]
    },
    {
      "cell_type": "code",
      "source": [
        "# Calcular la precisión (accuracy) en los datos de prueba con el modelo SVM ajustado\n",
        "test_accuracy_svm = svm_cv.score(X_test, Y_test)\n",
        "\n",
        "# Mostrar la precisión en los datos de prueba\n",
        "print(\"Precisión en los datos de prueba con SVM:\")\n",
        "print(test_accuracy_svm)"
      ],
      "metadata": {
        "colab": {
          "base_uri": "https://localhost:8080/"
        },
        "id": "s-Pjz3JG8nRc",
        "outputId": "541c07b7-4c52-4078-d408-b0ecb52869f7"
      },
      "execution_count": null,
      "outputs": [
        {
          "output_type": "stream",
          "name": "stdout",
          "text": [
            "Precisión en los datos de prueba con SVM:\n",
            "0.8333333333333334\n"
          ]
        }
      ]
    },
    {
      "cell_type": "markdown",
      "source": [
        "##Matriz de Confusion (SVM)"
      ],
      "metadata": {
        "id": "uZC0KAHPLAmc"
      }
    },
    {
      "cell_type": "code",
      "source": [
        "yhat=svm_cv.predict(X_test)\n",
        "plot_confusion_matrix(Y_test,yhat)"
      ],
      "metadata": {
        "colab": {
          "base_uri": "https://localhost:8080/",
          "height": 472
        },
        "id": "NU9Cyxco8pVg",
        "outputId": "e9325d6c-6462-44c8-acbf-03cdaab3d69a"
      },
      "execution_count": null,
      "outputs": [
        {
          "output_type": "display_data",
          "data": {
            "text/plain": [
              "<Figure size 640x480 with 2 Axes>"
            ],
            "image/png": "[encoded data removed]"
          },
          "metadata": {}
        }
      ]
    },
    {
      "cell_type": "markdown",
      "source": [
        "##Arbol de Decisiones"
      ],
      "metadata": {
        "id": "vLUcEwa5LFSe"
      }
    },
    {
      "cell_type": "code",
      "source": [
        "parameters = {'criterion': ['gini', 'entropy'],\n",
        "     'splitter': ['best', 'random'],\n",
        "     'max_depth': [2*n for n in range(1,10)],\n",
        "     'max_features': ['auto', 'sqrt'],\n",
        "     'min_samples_leaf': [1, 2, 4],\n",
        "     'min_samples_split': [2, 5, 10]}\n",
        "\n",
        "tree = DecisionTreeClassifier()"
      ],
      "metadata": {
        "id": "nt7XR0V48rCe"
      },
      "execution_count": null,
      "outputs": []
    },
    {
      "cell_type": "code",
      "source": [
        "from sklearn.tree import DecisionTreeClassifier\n",
        "from sklearn.model_selection import GridSearchCV\n",
        "\n",
        "# Crear el objeto de clasificador de árbol de decisión\n",
        "tree = DecisionTreeClassifier()\n",
        "\n",
        "# Definir los parámetros para GridSearchCV\n",
        "parameters = {\n",
        "    'criterion': ['gini', 'entropy'],\n",
        "    'splitter': ['best', 'random'],\n",
        "    'max_depth': [2*n for n in range(1, 10)],\n",
        "    'max_features': ['auto', 'sqrt'],\n",
        "    'min_samples_leaf': [1, 2, 4],\n",
        "    'min_samples_split': [2, 5, 10]\n",
        "}\n",
        "\n",
        "# Crear el objeto GridSearchCV con 10 fold cross-validation\n",
        "tree_cv = GridSearchCV(tree, parameters, cv=10)\n",
        "\n",
        "# Ajustar el objeto GridSearchCV a los datos de entrenamiento\n",
        "tree_cv.fit(X_train, Y_train)\n",
        "\n",
        "# Mostrar los mejores parámetros encontrados\n",
        "print(\"Mejores parámetros para el modelo de árbol de decisión:\")\n",
        "print(tree_cv.best_params_)"
      ],
      "metadata": {
        "colab": {
          "base_uri": "https://localhost:8080/"
        },
        "id": "qcGDovu38tHF",
        "outputId": "9cbe74f5-0604-4d48-b903-ca0c115792a2"
      },
      "execution_count": null,
      "outputs": [
        {
          "output_type": "stream",
          "name": "stdout",
          "text": [
            "Mejores parámetros para el modelo de árbol de decisión:\n",
            "{'criterion': 'entropy', 'max_depth': 4, 'max_features': 'sqrt', 'min_samples_leaf': 1, 'min_samples_split': 2, 'splitter': 'best'}\n"
          ]
        },
        {
          "output_type": "stream",
          "name": "stderr",
          "text": [
            "/usr/local/lib/python3.10/dist-packages/sklearn/model_selection/_validation.py:540: FitFailedWarning: \n",
            "3240 fits failed out of a total of 6480.\n",
            "The score on these train-test partitions for these parameters will be set to nan.\n",
            "If these failures are not expected, you can try to debug them by setting error_score='raise'.\n",
            "\n",
            "Below are more details about the failures:\n",
            "--------------------------------------------------------------------------------\n",
            "3240 fits failed with the following error:\n",
            "Traceback (most recent call last):\n",
            "  File \"/usr/local/lib/python3.10/dist-packages/sklearn/model_selection/_validation.py\", line 888, in _fit_and_score\n",
            "    estimator.fit(X_train, y_train, **fit_params)\n",
            "  File \"/usr/local/lib/python3.10/dist-packages/sklearn/base.py\", line 1466, in wrapper\n",
            "    estimator._validate_params()\n",
            "  File \"/usr/local/lib/python3.10/dist-packages/sklearn/base.py\", line 666, in _validate_params\n",
            "    validate_parameter_constraints(\n",
            "  File \"/usr/local/lib/python3.10/dist-packages/sklearn/utils/_param_validation.py\", line 95, in validate_parameter_constraints\n",
            "    raise InvalidParameterError(\n",
            "sklearn.utils._param_validation.InvalidParameterError: The 'max_features' parameter of DecisionTreeClassifier must be an int in the range [1, inf), a float in the range (0.0, 1.0], a str among {'log2', 'sqrt'} or None. Got 'auto' instead.\n",
            "\n",
            "  warnings.warn(some_fits_failed_message, FitFailedWarning)\n",
            "/usr/local/lib/python3.10/dist-packages/numpy/ma/core.py:2820: RuntimeWarning: invalid value encountered in cast\n",
            "  _data = np.array(data, dtype=dtype, copy=copy,\n",
            "/usr/local/lib/python3.10/dist-packages/sklearn/model_selection/_search.py:1103: UserWarning: One or more of the test scores are non-finite: [       nan        nan        nan        nan        nan        nan\n",
            "        nan        nan        nan        nan        nan        nan\n",
            "        nan        nan        nan        nan        nan        nan\n",
            " 0.76785714 0.75357143 0.78035714 0.81785714 0.79464286 0.80357143\n",
            " 0.69107143 0.81785714 0.75178571 0.7375     0.66428571 0.84821429\n",
            " 0.76071429 0.79107143 0.77321429 0.70535714 0.7875     0.73928571\n",
            "        nan        nan        nan        nan        nan        nan\n",
            "        nan        nan        nan        nan        nan        nan\n",
            "        nan        nan        nan        nan        nan        nan\n",
            " 0.86071429 0.84642857 0.86071429 0.79107143 0.81785714 0.80535714\n",
            " 0.75535714 0.81785714 0.79285714 0.86071429 0.81785714 0.80357143\n",
            " 0.77678571 0.84821429 0.84642857 0.76607143 0.74821429 0.82321429\n",
            "        nan        nan        nan        nan        nan        nan\n",
            "        nan        nan        nan        nan        nan        nan\n",
            "        nan        nan        nan        nan        nan        nan\n",
            " 0.81964286 0.79107143 0.76607143 0.78928571 0.80535714 0.83214286\n",
            " 0.71785714 0.81785714 0.74821429 0.84464286 0.84821429 0.73928571\n",
            " 0.73392857 0.71071429 0.73571429 0.83214286 0.77678571 0.68214286\n",
            "        nan        nan        nan        nan        nan        nan\n",
            "        nan        nan        nan        nan        nan        nan\n",
            "        nan        nan        nan        nan        nan        nan\n",
            " 0.80535714 0.83392857 0.72142857 0.73571429 0.80535714 0.79107143\n",
            " 0.85892857 0.74821429 0.79107143 0.71071429 0.75       0.79107143\n",
            " 0.80357143 0.7375     0.77678571 0.71428571 0.75       0.78928571\n",
            "        nan        nan        nan        nan        nan        nan\n",
            "        nan        nan        nan        nan        nan        nan\n",
            "        nan        nan        nan        nan        nan        nan\n",
            " 0.79107143 0.81964286 0.76607143 0.79285714 0.7625     0.83571429\n",
            " 0.76428571 0.78035714 0.79107143 0.80535714 0.80535714 0.81785714\n",
            " 0.74107143 0.79464286 0.79285714 0.80714286 0.78928571 0.79107143\n",
            "        nan        nan        nan        nan        nan        nan\n",
            "        nan        nan        nan        nan        nan        nan\n",
            "        nan        nan        nan        nan        nan        nan\n",
            " 0.80535714 0.79285714 0.75357143 0.77678571 0.77857143 0.77678571\n",
            " 0.77857143 0.73928571 0.78928571 0.73571429 0.80535714 0.81785714\n",
            " 0.79285714 0.84821429 0.76071429 0.78928571 0.79285714 0.75\n",
            "        nan        nan        nan        nan        nan        nan\n",
            "        nan        nan        nan        nan        nan        nan\n",
            "        nan        nan        nan        nan        nan        nan\n",
            " 0.84642857 0.83214286 0.80357143 0.79107143 0.76071429 0.84821429\n",
            " 0.79285714 0.81964286 0.80357143 0.78392857 0.83214286 0.77321429\n",
            " 0.78928571 0.77678571 0.81785714 0.80357143 0.73571429 0.7375\n",
            "        nan        nan        nan        nan        nan        nan\n",
            "        nan        nan        nan        nan        nan        nan\n",
            "        nan        nan        nan        nan        nan        nan\n",
            " 0.80535714 0.80714286 0.775      0.7625     0.69285714 0.79285714\n",
            " 0.7375     0.79107143 0.78928571 0.76428571 0.74642857 0.79107143\n",
            " 0.79107143 0.80357143 0.80178571 0.80714286 0.79107143 0.76071429\n",
            "        nan        nan        nan        nan        nan        nan\n",
            "        nan        nan        nan        nan        nan        nan\n",
            "        nan        nan        nan        nan        nan        nan\n",
            " 0.74642857 0.77857143 0.73392857 0.80714286 0.78928571 0.80714286\n",
            " 0.76428571 0.72321429 0.7625     0.75178571 0.80535714 0.78928571\n",
            " 0.76071429 0.7125     0.74821429 0.80357143 0.7375     0.73928571\n",
            "        nan        nan        nan        nan        nan        nan\n",
            "        nan        nan        nan        nan        nan        nan\n",
            "        nan        nan        nan        nan        nan        nan\n",
            " 0.79642857 0.725      0.70714286 0.80178571 0.81964286 0.7625\n",
            " 0.83035714 0.79107143 0.7375     0.7625     0.83392857 0.79107143\n",
            " 0.79107143 0.7625     0.71964286 0.78928571 0.77678571 0.77857143\n",
            "        nan        nan        nan        nan        nan        nan\n",
            "        nan        nan        nan        nan        nan        nan\n",
            "        nan        nan        nan        nan        nan        nan\n",
            " 0.875      0.79285714 0.85892857 0.80535714 0.81964286 0.77678571\n",
            " 0.86071429 0.75178571 0.83214286 0.78928571 0.76071429 0.79107143\n",
            " 0.76071429 0.80535714 0.84642857 0.83392857 0.80535714 0.73392857\n",
            "        nan        nan        nan        nan        nan        nan\n",
            "        nan        nan        nan        nan        nan        nan\n",
            "        nan        nan        nan        nan        nan        nan\n",
            " 0.77678571 0.83392857 0.70535714 0.83214286 0.81785714 0.81964286\n",
            " 0.70357143 0.79464286 0.81964286 0.70714286 0.81964286 0.83571429\n",
            " 0.83214286 0.79107143 0.83392857 0.81785714 0.80357143 0.81785714\n",
            "        nan        nan        nan        nan        nan        nan\n",
            "        nan        nan        nan        nan        nan        nan\n",
            "        nan        nan        nan        nan        nan        nan\n",
            " 0.775      0.84642857 0.76071429 0.81964286 0.72142857 0.74821429\n",
            " 0.80535714 0.76428571 0.80535714 0.80892857 0.80535714 0.83214286\n",
            " 0.80535714 0.79642857 0.76071429 0.81964286 0.78928571 0.81785714\n",
            "        nan        nan        nan        nan        nan        nan\n",
            "        nan        nan        nan        nan        nan        nan\n",
            "        nan        nan        nan        nan        nan        nan\n",
            " 0.77857143 0.79107143 0.76428571 0.77857143 0.73214286 0.80535714\n",
            " 0.69464286 0.80714286 0.73928571 0.77678571 0.80357143 0.83214286\n",
            " 0.74821429 0.83214286 0.80357143 0.7375     0.78928571 0.79464286\n",
            "        nan        nan        nan        nan        nan        nan\n",
            "        nan        nan        nan        nan        nan        nan\n",
            "        nan        nan        nan        nan        nan        nan\n",
            " 0.76428571 0.79107143 0.76607143 0.76428571 0.78035714 0.80535714\n",
            " 0.73392857 0.7125     0.81785714 0.73214286 0.76428571 0.81785714\n",
            " 0.74821429 0.77678571 0.81964286 0.87142857 0.81964286 0.775\n",
            "        nan        nan        nan        nan        nan        nan\n",
            "        nan        nan        nan        nan        nan        nan\n",
            "        nan        nan        nan        nan        nan        nan\n",
            " 0.81785714 0.80357143 0.70892857 0.69464286 0.79285714 0.74821429\n",
            " 0.71964286 0.71964286 0.80714286 0.74821429 0.72321429 0.82142857\n",
            " 0.69107143 0.80535714 0.78214286 0.82142857 0.7625     0.71964286\n",
            "        nan        nan        nan        nan        nan        nan\n",
            "        nan        nan        nan        nan        nan        nan\n",
            "        nan        nan        nan        nan        nan        nan\n",
            " 0.72321429 0.80535714 0.78035714 0.77857143 0.80535714 0.79107143\n",
            " 0.82142857 0.77678571 0.73571429 0.81964286 0.73392857 0.78928571\n",
            " 0.76428571 0.81785714 0.77678571 0.78035714 0.80357143 0.79464286\n",
            "        nan        nan        nan        nan        nan        nan\n",
            "        nan        nan        nan        nan        nan        nan\n",
            "        nan        nan        nan        nan        nan        nan\n",
            " 0.73571429 0.81964286 0.77678571 0.76071429 0.75       0.79464286\n",
            " 0.76607143 0.77678571 0.72321429 0.75178571 0.78928571 0.80714286\n",
            " 0.78928571 0.84464286 0.72321429 0.76785714 0.73928571 0.80535714]\n",
            "  warnings.warn(\n"
          ]
        }
      ]
    },
    {
      "cell_type": "code",
      "source": [
        "print(\"tuned hpyerparameters :(best parameters) \",tree_cv.best_params_)\n",
        "print(\"accuracy :\",tree_cv.best_score_)"
      ],
      "metadata": {
        "colab": {
          "base_uri": "https://localhost:8080/"
        },
        "id": "Ew6S6kHc8vfp",
        "outputId": "36d40f40-1174-4e11-82a9-cbc6f1a7a751"
      },
      "execution_count": null,
      "outputs": [
        {
          "output_type": "stream",
          "name": "stdout",
          "text": [
            "tuned hpyerparameters :(best parameters)  {'criterion': 'entropy', 'max_depth': 4, 'max_features': 'sqrt', 'min_samples_leaf': 1, 'min_samples_split': 2, 'splitter': 'best'}\n",
            "accuracy : 0.875\n"
          ]
        }
      ]
    },
    {
      "cell_type": "code",
      "source": [
        "# Calcular la precisión del modelo de árbol de decisión en los datos de prueba\n",
        "tree_cv_accuracy = tree_cv.score(X_test, Y_test)\n",
        "\n",
        "# Imprimir la precisión\n",
        "print(\"Precisión del modelo de árbol de decisión en los datos de prueba:\")\n",
        "print(tree_cv_accuracy)"
      ],
      "metadata": {
        "colab": {
          "base_uri": "https://localhost:8080/"
        },
        "id": "VNVEciNN8xfL",
        "outputId": "6abd6942-9e4e-418e-ae2b-02b092f1ac82"
      },
      "execution_count": null,
      "outputs": [
        {
          "output_type": "stream",
          "name": "stdout",
          "text": [
            "Precisión del modelo de árbol de decisión en los datos de prueba:\n",
            "0.9444444444444444\n"
          ]
        }
      ]
    },
    {
      "cell_type": "markdown",
      "source": [
        "##Matriz de Confusion (Arbol de decisiones)"
      ],
      "metadata": {
        "id": "_BFM4tKrLJXu"
      }
    },
    {
      "cell_type": "code",
      "source": [
        "yhat = tree_cv.predict(X_test)\n",
        "plot_confusion_matrix(Y_test,yhat)"
      ],
      "metadata": {
        "colab": {
          "base_uri": "https://localhost:8080/",
          "height": 472
        },
        "id": "MbrU8xDU8zSA",
        "outputId": "aed846d7-046f-4f84-b730-f779d8a7a7cf"
      },
      "execution_count": null,
      "outputs": [
        {
          "output_type": "display_data",
          "data": {
            "text/plain": [
              "<Figure size 640x480 with 2 Axes>"
            ],
            "image/png": "[encoded data removed]"
          },
          "metadata": {}
        }
      ]
    },
    {
      "cell_type": "markdown",
      "source": [
        "##KNN"
      ],
      "metadata": {
        "id": "JDROz-6nLO20"
      }
    },
    {
      "cell_type": "code",
      "source": [
        "parameters = {'n_neighbors': [1, 2, 3, 4, 5, 6, 7, 8, 9, 10],\n",
        "              'algorithm': ['auto', 'ball_tree', 'kd_tree', 'brute'],\n",
        "              'p': [1,2]}\n",
        "\n",
        "KNN = KNeighborsClassifier()"
      ],
      "metadata": {
        "id": "CcIqNBlZ81I3"
      },
      "execution_count": null,
      "outputs": []
    },
    {
      "cell_type": "code",
      "source": [
        "# Parámetros para GridSearchCV\n",
        "parameters = {\n",
        "    'n_neighbors': [1, 2, 3, 4, 5, 6, 7, 8, 9, 10],\n",
        "    'algorithm': ['auto', 'ball_tree', 'kd_tree', 'brute'],\n",
        "    'p': [1, 2]\n",
        "}\n",
        "\n",
        "# Crear el objeto KNeighborsClassifier\n",
        "KNN = KNeighborsClassifier()\n",
        "\n",
        "# Crear el objeto GridSearchCV con 10 pliegues de validación cruzada\n",
        "knn_cv = GridSearchCV(estimator=KNN, param_grid=parameters, cv=10)\n",
        "\n",
        "# Ajustar el objeto GridSearchCV a los datos de entrenamiento\n",
        "knn_cv.fit(X_train, Y_train)\n",
        "\n",
        "# Imprimir los mejores parámetros encontrados\n",
        "print(\"Mejores parámetros encontrados:\")\n",
        "print(knn_cv.best_params_)"
      ],
      "metadata": {
        "colab": {
          "base_uri": "https://localhost:8080/"
        },
        "id": "ndwCoOWb82vj",
        "outputId": "6d60078a-5348-4a67-8815-fdddee92641f"
      },
      "execution_count": null,
      "outputs": [
        {
          "output_type": "stream",
          "name": "stdout",
          "text": [
            "Mejores parámetros encontrados:\n",
            "{'algorithm': 'auto', 'n_neighbors': 10, 'p': 1}\n"
          ]
        }
      ]
    },
    {
      "cell_type": "code",
      "source": [
        "print(\"tuned hpyerparameters :(best parameters) \",knn_cv.best_params_)\n",
        "print(\"accuracy :\",knn_cv.best_score_)"
      ],
      "metadata": {
        "colab": {
          "base_uri": "https://localhost:8080/"
        },
        "id": "cZIJcyyT84f6",
        "outputId": "dc1e19b7-274c-48da-d382-b82b06e66eff"
      },
      "execution_count": null,
      "outputs": [
        {
          "output_type": "stream",
          "name": "stdout",
          "text": [
            "tuned hpyerparameters :(best parameters)  {'algorithm': 'auto', 'n_neighbors': 10, 'p': 1}\n",
            "accuracy : 0.8482142857142858\n"
          ]
        }
      ]
    },
    {
      "cell_type": "code",
      "source": [
        "# Calcular la precisión del modelo en los datos de prueba\n",
        "accuracy_knn = knn_cv.score(X_test, Y_test)\n",
        "\n",
        "# Imprimir la precisión\n",
        "print(f'Precisión del modelo KNN en los datos de prueba: {accuracy_knn:.4f}')"
      ],
      "metadata": {
        "colab": {
          "base_uri": "https://localhost:8080/"
        },
        "id": "j6OLvgUT864I",
        "outputId": "5aa7b4f3-5606-4ce0-bf9d-8893efd5f6b1"
      },
      "execution_count": null,
      "outputs": [
        {
          "output_type": "stream",
          "name": "stdout",
          "text": [
            "Precisión del modelo KNN en los datos de prueba: 0.8333\n"
          ]
        }
      ]
    },
    {
      "cell_type": "markdown",
      "source": [
        "##Matriz de confusión (KNN)"
      ],
      "metadata": {
        "id": "kNAsQjHMLRi4"
      }
    },
    {
      "cell_type": "code",
      "source": [
        "yhat = knn_cv.predict(X_test)\n",
        "plot_confusion_matrix(Y_test,yhat)"
      ],
      "metadata": {
        "colab": {
          "base_uri": "https://localhost:8080/",
          "height": 472
        },
        "id": "HdfYRUJa88KO",
        "outputId": "8c8e7902-8317-45db-e838-55d68d2410fd"
      },
      "execution_count": null,
      "outputs": [
        {
          "output_type": "display_data",
          "data": {
            "text/plain": [
              "<Figure size 640x480 with 2 Axes>"
            ],
            "image/png": "[encoded data removed]"
          },
          "metadata": {}
        }
      ]
    },
    {
      "cell_type": "code",
      "source": [
        "# Calcular la precisión de cada modelo en los datos de prueba\n",
        "accuracy_logreg = logreg_cv.score(X_test, Y_test)\n",
        "accuracy_svm = svm_cv.score(X_test, Y_test)\n",
        "accuracy_tree = tree_cv.score(X_test, Y_test)\n",
        "accuracy_knn = knn_cv.score(X_test, Y_test)\n",
        "\n",
        "# Imprimir las precisiones\n",
        "print(f'Precisión del modelo de Regresión Logística: {accuracy_logreg:.4f}')\n",
        "print(f'Precisión del modelo de SVM: {accuracy_svm:.4f}')\n",
        "print(f'Precisión del modelo de Árbol de Decisión: {accuracy_tree:.4f}')\n",
        "print(f'Precisión del modelo de KNN: {accuracy_knn:.4f}')\n",
        "\n",
        "print(\"Mejores parámetros para Regresión Logística:\", logreg_cv.best_params_)\n",
        "print(\"Mejores parámetros para SVM:\", svm_cv.best_params_)\n",
        "print(\"Mejores parámetros para Árbol de Decisión:\", tree_cv.best_params_)\n",
        "print(\"Mejores parámetros para KNN:\", knn_cv.best_params_)"
      ],
      "metadata": {
        "colab": {
          "base_uri": "https://localhost:8080/"
        },
        "id": "aYNzjL0K8_w2",
        "outputId": "e3814eb3-b79a-4d0c-8166-37fadbe64815"
      },
      "execution_count": null,
      "outputs": [
        {
          "output_type": "stream",
          "name": "stdout",
          "text": [
            "Precisión del modelo de Regresión Logística: 0.8333\n",
            "Precisión del modelo de SVM: 0.8333\n",
            "Precisión del modelo de Árbol de Decisión: 0.9444\n",
            "Precisión del modelo de KNN: 0.8333\n",
            "Mejores parámetros para Regresión Logística: {'C': 0.01, 'penalty': 'l2', 'solver': 'lbfgs'}\n",
            "Mejores parámetros para SVM: {'C': 1.0, 'gamma': 0.03162277660168379, 'kernel': 'sigmoid'}\n",
            "Mejores parámetros para Árbol de Decisión: {'criterion': 'entropy', 'max_depth': 4, 'max_features': 'sqrt', 'min_samples_leaf': 1, 'min_samples_split': 2, 'splitter': 'best'}\n",
            "Mejores parámetros para KNN: {'algorithm': 'auto', 'n_neighbors': 10, 'p': 1}\n"
          ]
        }
      ]
    },
    {
      "cell_type": "markdown",
      "source": [
        "##Comparacion Final de los modelos"
      ],
      "metadata": {
        "id": "nKRLERP3LcXv"
      }
    },
    {
      "cell_type": "code",
      "source": [
        "# Variables con las precisiones de los modelos\n",
        "accuracy_logreg = logreg_cv.score(X_test, Y_test)\n",
        "accuracy_svm = svm_cv.score(X_test, Y_test)\n",
        "accuracy_tree = tree_cv.score(X_test, Y_test)\n",
        "accuracy_knn = knn_cv.score(X_test, Y_test)\n",
        "\n",
        "# Crear un DataFrame con los nombres de los modelos y sus precisiones\n",
        "model_accuracies = pd.DataFrame({\n",
        "    'Model': ['Logistic Regression', 'Support Vector Machine', 'Decision Tree', 'K-Nearest Neighbors'],\n",
        "    'Accuracy': [accuracy_logreg, accuracy_svm, accuracy_tree, accuracy_knn]\n",
        "})\n",
        "\n",
        "# Generar un gráfico de barras utilizando Seaborn\n",
        "plt.figure(figsize=(10, 6))\n",
        "sns.barplot(x='Model', y='Accuracy', data=model_accuracies)\n",
        "plt.title('Model Accuracy Comparison')\n",
        "plt.ylabel('Accuracy')\n",
        "plt.xlabel('Model')\n",
        "plt.ylim(0, 1)  # Asegurar que el eje y va de 0 a 1\n",
        "plt.xticks(rotation=45)\n",
        "plt.show()"
      ],
      "metadata": {
        "colab": {
          "base_uri": "https://localhost:8080/",
          "height": 509
        },
        "id": "2tRKMr3H9DIq",
        "outputId": "18ff51d8-9fee-44ad-d97b-4f551e84bf6f"
      },
      "execution_count": null,
      "outputs": [
        {
          "output_type": "display_data",
          "data": {
            "text/plain": [
              "<Figure size 1000x600 with 1 Axes>"
            ],
            "image/png": "[encoded data removed]"
          },
          "metadata": {}
        }
      ]
    },
    {
      "cell_type": "code",
      "source": [],
      "metadata": {
        "id": "ECQz-tIHFuYy"
      },
      "execution_count": null,
      "outputs": []
    }
  ]
}